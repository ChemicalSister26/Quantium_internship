{
 "cells": [
  {
   "cell_type": "code",
   "execution_count": 1,
   "id": "e96a3079",
   "metadata": {},
   "outputs": [],
   "source": [
    "import pandas as pd\n",
    "import seaborn as sns\n",
    "import numpy as np\n",
    "import matplotlib.pyplot as plt\n",
    "import matplotlib\n",
    "from mpl_toolkits.mplot3d import axis3d\n",
    "\n",
    "plt.rcParams['figure.figsize'] = (16, 12)"
   ]
  },
  {
   "cell_type": "code",
   "execution_count": 2,
   "id": "e5bc219d",
   "metadata": {},
   "outputs": [],
   "source": [
    "transact = pd.read_csv('QVI_transaction_data.xlsx; filename*.csv', parse_dates=['DATE'])"
   ]
  },
  {
   "cell_type": "code",
   "execution_count": 3,
   "id": "76a18d89",
   "metadata": {},
   "outputs": [
    {
     "data": {
      "text/html": [
       "<div>\n",
       "<style scoped>\n",
       "    .dataframe tbody tr th:only-of-type {\n",
       "        vertical-align: middle;\n",
       "    }\n",
       "\n",
       "    .dataframe tbody tr th {\n",
       "        vertical-align: top;\n",
       "    }\n",
       "\n",
       "    .dataframe thead th {\n",
       "        text-align: right;\n",
       "    }\n",
       "</style>\n",
       "<table border=\"1\" class=\"dataframe\">\n",
       "  <thead>\n",
       "    <tr style=\"text-align: right;\">\n",
       "      <th></th>\n",
       "      <th>DATE</th>\n",
       "      <th>STORE_NBR</th>\n",
       "      <th>LYLTY_CARD_NBR</th>\n",
       "      <th>TXN_ID</th>\n",
       "      <th>PROD_NBR</th>\n",
       "      <th>PROD_NAME</th>\n",
       "      <th>PROD_QTY</th>\n",
       "      <th>TOT_SALES</th>\n",
       "    </tr>\n",
       "  </thead>\n",
       "  <tbody>\n",
       "    <tr>\n",
       "      <th>0</th>\n",
       "      <td>2018-10-17</td>\n",
       "      <td>1</td>\n",
       "      <td>1000</td>\n",
       "      <td>1</td>\n",
       "      <td>5</td>\n",
       "      <td>Natural Chip        Compny SeaSalt175g</td>\n",
       "      <td>2</td>\n",
       "      <td>6.0</td>\n",
       "    </tr>\n",
       "    <tr>\n",
       "      <th>1</th>\n",
       "      <td>2019-05-14</td>\n",
       "      <td>1</td>\n",
       "      <td>1307</td>\n",
       "      <td>348</td>\n",
       "      <td>66</td>\n",
       "      <td>CCs Nacho Cheese    175g</td>\n",
       "      <td>3</td>\n",
       "      <td>6.3</td>\n",
       "    </tr>\n",
       "    <tr>\n",
       "      <th>2</th>\n",
       "      <td>2019-05-20</td>\n",
       "      <td>1</td>\n",
       "      <td>1343</td>\n",
       "      <td>383</td>\n",
       "      <td>61</td>\n",
       "      <td>Smiths Crinkle Cut  Chips Chicken 170g</td>\n",
       "      <td>2</td>\n",
       "      <td>2.9</td>\n",
       "    </tr>\n",
       "    <tr>\n",
       "      <th>3</th>\n",
       "      <td>2018-08-17</td>\n",
       "      <td>2</td>\n",
       "      <td>2373</td>\n",
       "      <td>974</td>\n",
       "      <td>69</td>\n",
       "      <td>Smiths Chip Thinly  S/Cream&amp;Onion 175g</td>\n",
       "      <td>5</td>\n",
       "      <td>15.0</td>\n",
       "    </tr>\n",
       "    <tr>\n",
       "      <th>4</th>\n",
       "      <td>2018-08-18</td>\n",
       "      <td>2</td>\n",
       "      <td>2426</td>\n",
       "      <td>1038</td>\n",
       "      <td>108</td>\n",
       "      <td>Kettle Tortilla ChpsHny&amp;Jlpno Chili 150g</td>\n",
       "      <td>3</td>\n",
       "      <td>13.8</td>\n",
       "    </tr>\n",
       "    <tr>\n",
       "      <th>...</th>\n",
       "      <td>...</td>\n",
       "      <td>...</td>\n",
       "      <td>...</td>\n",
       "      <td>...</td>\n",
       "      <td>...</td>\n",
       "      <td>...</td>\n",
       "      <td>...</td>\n",
       "      <td>...</td>\n",
       "    </tr>\n",
       "    <tr>\n",
       "      <th>264831</th>\n",
       "      <td>2019-03-09</td>\n",
       "      <td>272</td>\n",
       "      <td>272319</td>\n",
       "      <td>270088</td>\n",
       "      <td>89</td>\n",
       "      <td>Kettle Sweet Chilli And Sour Cream 175g</td>\n",
       "      <td>2</td>\n",
       "      <td>10.8</td>\n",
       "    </tr>\n",
       "    <tr>\n",
       "      <th>264832</th>\n",
       "      <td>2018-08-13</td>\n",
       "      <td>272</td>\n",
       "      <td>272358</td>\n",
       "      <td>270154</td>\n",
       "      <td>74</td>\n",
       "      <td>Tostitos Splash Of  Lime 175g</td>\n",
       "      <td>1</td>\n",
       "      <td>4.4</td>\n",
       "    </tr>\n",
       "    <tr>\n",
       "      <th>264833</th>\n",
       "      <td>2018-11-06</td>\n",
       "      <td>272</td>\n",
       "      <td>272379</td>\n",
       "      <td>270187</td>\n",
       "      <td>51</td>\n",
       "      <td>Doritos Mexicana    170g</td>\n",
       "      <td>2</td>\n",
       "      <td>8.8</td>\n",
       "    </tr>\n",
       "    <tr>\n",
       "      <th>264834</th>\n",
       "      <td>2018-12-27</td>\n",
       "      <td>272</td>\n",
       "      <td>272379</td>\n",
       "      <td>270188</td>\n",
       "      <td>42</td>\n",
       "      <td>Doritos Corn Chip Mexican Jalapeno 150g</td>\n",
       "      <td>2</td>\n",
       "      <td>7.8</td>\n",
       "    </tr>\n",
       "    <tr>\n",
       "      <th>264835</th>\n",
       "      <td>2018-09-22</td>\n",
       "      <td>272</td>\n",
       "      <td>272380</td>\n",
       "      <td>270189</td>\n",
       "      <td>74</td>\n",
       "      <td>Tostitos Splash Of  Lime 175g</td>\n",
       "      <td>2</td>\n",
       "      <td>8.8</td>\n",
       "    </tr>\n",
       "  </tbody>\n",
       "</table>\n",
       "<p>264836 rows × 8 columns</p>\n",
       "</div>"
      ],
      "text/plain": [
       "             DATE  STORE_NBR  LYLTY_CARD_NBR  TXN_ID  PROD_NBR  \\\n",
       "0      2018-10-17          1            1000       1         5   \n",
       "1      2019-05-14          1            1307     348        66   \n",
       "2      2019-05-20          1            1343     383        61   \n",
       "3      2018-08-17          2            2373     974        69   \n",
       "4      2018-08-18          2            2426    1038       108   \n",
       "...           ...        ...             ...     ...       ...   \n",
       "264831 2019-03-09        272          272319  270088        89   \n",
       "264832 2018-08-13        272          272358  270154        74   \n",
       "264833 2018-11-06        272          272379  270187        51   \n",
       "264834 2018-12-27        272          272379  270188        42   \n",
       "264835 2018-09-22        272          272380  270189        74   \n",
       "\n",
       "                                       PROD_NAME  PROD_QTY  TOT_SALES  \n",
       "0         Natural Chip        Compny SeaSalt175g         2        6.0  \n",
       "1                       CCs Nacho Cheese    175g         3        6.3  \n",
       "2         Smiths Crinkle Cut  Chips Chicken 170g         2        2.9  \n",
       "3         Smiths Chip Thinly  S/Cream&Onion 175g         5       15.0  \n",
       "4       Kettle Tortilla ChpsHny&Jlpno Chili 150g         3       13.8  \n",
       "...                                          ...       ...        ...  \n",
       "264831   Kettle Sweet Chilli And Sour Cream 175g         2       10.8  \n",
       "264832             Tostitos Splash Of  Lime 175g         1        4.4  \n",
       "264833                  Doritos Mexicana    170g         2        8.8  \n",
       "264834   Doritos Corn Chip Mexican Jalapeno 150g         2        7.8  \n",
       "264835             Tostitos Splash Of  Lime 175g         2        8.8  \n",
       "\n",
       "[264836 rows x 8 columns]"
      ]
     },
     "execution_count": 3,
     "metadata": {},
     "output_type": "execute_result"
    }
   ],
   "source": [
    "transact"
   ]
  },
  {
   "cell_type": "code",
   "execution_count": 4,
   "id": "1cb2a835",
   "metadata": {},
   "outputs": [],
   "source": [
    "cust = pd.read_csv('QVI_purchase_behaviour.csv; filename*.csv')"
   ]
  },
  {
   "cell_type": "code",
   "execution_count": 5,
   "id": "688e454d",
   "metadata": {},
   "outputs": [
    {
     "data": {
      "text/html": [
       "<div>\n",
       "<style scoped>\n",
       "    .dataframe tbody tr th:only-of-type {\n",
       "        vertical-align: middle;\n",
       "    }\n",
       "\n",
       "    .dataframe tbody tr th {\n",
       "        vertical-align: top;\n",
       "    }\n",
       "\n",
       "    .dataframe thead th {\n",
       "        text-align: right;\n",
       "    }\n",
       "</style>\n",
       "<table border=\"1\" class=\"dataframe\">\n",
       "  <thead>\n",
       "    <tr style=\"text-align: right;\">\n",
       "      <th></th>\n",
       "      <th>LYLTY_CARD_NBR</th>\n",
       "      <th>LIFESTAGE</th>\n",
       "      <th>PREMIUM_CUSTOMER</th>\n",
       "    </tr>\n",
       "  </thead>\n",
       "  <tbody>\n",
       "    <tr>\n",
       "      <th>0</th>\n",
       "      <td>1000</td>\n",
       "      <td>YOUNG SINGLES/COUPLES</td>\n",
       "      <td>Premium</td>\n",
       "    </tr>\n",
       "    <tr>\n",
       "      <th>1</th>\n",
       "      <td>1002</td>\n",
       "      <td>YOUNG SINGLES/COUPLES</td>\n",
       "      <td>Mainstream</td>\n",
       "    </tr>\n",
       "    <tr>\n",
       "      <th>2</th>\n",
       "      <td>1003</td>\n",
       "      <td>YOUNG FAMILIES</td>\n",
       "      <td>Budget</td>\n",
       "    </tr>\n",
       "    <tr>\n",
       "      <th>3</th>\n",
       "      <td>1004</td>\n",
       "      <td>OLDER SINGLES/COUPLES</td>\n",
       "      <td>Mainstream</td>\n",
       "    </tr>\n",
       "    <tr>\n",
       "      <th>4</th>\n",
       "      <td>1005</td>\n",
       "      <td>MIDAGE SINGLES/COUPLES</td>\n",
       "      <td>Mainstream</td>\n",
       "    </tr>\n",
       "    <tr>\n",
       "      <th>...</th>\n",
       "      <td>...</td>\n",
       "      <td>...</td>\n",
       "      <td>...</td>\n",
       "    </tr>\n",
       "    <tr>\n",
       "      <th>72632</th>\n",
       "      <td>2370651</td>\n",
       "      <td>MIDAGE SINGLES/COUPLES</td>\n",
       "      <td>Mainstream</td>\n",
       "    </tr>\n",
       "    <tr>\n",
       "      <th>72633</th>\n",
       "      <td>2370701</td>\n",
       "      <td>YOUNG FAMILIES</td>\n",
       "      <td>Mainstream</td>\n",
       "    </tr>\n",
       "    <tr>\n",
       "      <th>72634</th>\n",
       "      <td>2370751</td>\n",
       "      <td>YOUNG FAMILIES</td>\n",
       "      <td>Premium</td>\n",
       "    </tr>\n",
       "    <tr>\n",
       "      <th>72635</th>\n",
       "      <td>2370961</td>\n",
       "      <td>OLDER FAMILIES</td>\n",
       "      <td>Budget</td>\n",
       "    </tr>\n",
       "    <tr>\n",
       "      <th>72636</th>\n",
       "      <td>2373711</td>\n",
       "      <td>YOUNG SINGLES/COUPLES</td>\n",
       "      <td>Mainstream</td>\n",
       "    </tr>\n",
       "  </tbody>\n",
       "</table>\n",
       "<p>72637 rows × 3 columns</p>\n",
       "</div>"
      ],
      "text/plain": [
       "       LYLTY_CARD_NBR               LIFESTAGE PREMIUM_CUSTOMER\n",
       "0                1000   YOUNG SINGLES/COUPLES          Premium\n",
       "1                1002   YOUNG SINGLES/COUPLES       Mainstream\n",
       "2                1003          YOUNG FAMILIES           Budget\n",
       "3                1004   OLDER SINGLES/COUPLES       Mainstream\n",
       "4                1005  MIDAGE SINGLES/COUPLES       Mainstream\n",
       "...               ...                     ...              ...\n",
       "72632         2370651  MIDAGE SINGLES/COUPLES       Mainstream\n",
       "72633         2370701          YOUNG FAMILIES       Mainstream\n",
       "72634         2370751          YOUNG FAMILIES          Premium\n",
       "72635         2370961          OLDER FAMILIES           Budget\n",
       "72636         2373711   YOUNG SINGLES/COUPLES       Mainstream\n",
       "\n",
       "[72637 rows x 3 columns]"
      ]
     },
     "execution_count": 5,
     "metadata": {},
     "output_type": "execute_result"
    }
   ],
   "source": [
    "cust"
   ]
  },
  {
   "cell_type": "code",
   "execution_count": 6,
   "id": "5c2e4555",
   "metadata": {},
   "outputs": [
    {
     "name": "stdout",
     "output_type": "stream",
     "text": [
      "<class 'pandas.core.frame.DataFrame'>\n",
      "RangeIndex: 264836 entries, 0 to 264835\n",
      "Data columns (total 8 columns):\n",
      " #   Column          Non-Null Count   Dtype         \n",
      "---  ------          --------------   -----         \n",
      " 0   DATE            264836 non-null  datetime64[ns]\n",
      " 1   STORE_NBR       264836 non-null  int64         \n",
      " 2   LYLTY_CARD_NBR  264836 non-null  int64         \n",
      " 3   TXN_ID          264836 non-null  int64         \n",
      " 4   PROD_NBR        264836 non-null  int64         \n",
      " 5   PROD_NAME       264836 non-null  object        \n",
      " 6   PROD_QTY        264836 non-null  int64         \n",
      " 7   TOT_SALES       264836 non-null  float64       \n",
      "dtypes: datetime64[ns](1), float64(1), int64(5), object(1)\n",
      "memory usage: 16.2+ MB\n"
     ]
    }
   ],
   "source": [
    "transact.info()"
   ]
  },
  {
   "cell_type": "code",
   "execution_count": 7,
   "id": "0bacc064",
   "metadata": {},
   "outputs": [
    {
     "data": {
      "text/plain": [
       "array([[<matplotlib.axes._subplots.AxesSubplot object at 0x7f19543f9b20>,\n",
       "        <matplotlib.axes._subplots.AxesSubplot object at 0x7f195234f400>,\n",
       "        <matplotlib.axes._subplots.AxesSubplot object at 0x7f19522fbc70>],\n",
       "       [<matplotlib.axes._subplots.AxesSubplot object at 0x7f19522b24f0>,\n",
       "        <matplotlib.axes._subplots.AxesSubplot object at 0x7f19522dcd00>,\n",
       "        <matplotlib.axes._subplots.AxesSubplot object at 0x7f1952290580>],\n",
       "       [<matplotlib.axes._subplots.AxesSubplot object at 0x7f195229e490>,\n",
       "        <matplotlib.axes._subplots.AxesSubplot object at 0x7f19521ff5b0>,\n",
       "        <matplotlib.axes._subplots.AxesSubplot object at 0x7f19521ff700>]],\n",
       "      dtype=object)"
      ]
     },
     "execution_count": 7,
     "metadata": {},
     "output_type": "execute_result"
    },
    {
     "data": {
      "image/png": "[encoded data removed]",
      "text/plain": [
       "<Figure size 1600x1200 with 9 Axes>"
      ]
     },
     "metadata": {},
     "output_type": "display_data"
    }
   ],
   "source": [
    "transact.hist(bins=100)"
   ]
  },
  {
   "cell_type": "markdown",
   "id": "2301e6e5",
   "metadata": {},
   "source": [
    "I see obvious outliers in the data, we can see this from boxpot figure."
   ]
  },
  {
   "cell_type": "code",
   "execution_count": 8,
   "id": "694c9dc3",
   "metadata": {},
   "outputs": [
    {
     "data": {
      "text/plain": [
       "256040    2373711\n",
       "53107     2370961\n",
       "53106     2370961\n",
       "227371    2370751\n",
       "215522    2370701\n",
       "15676     2370651\n",
       "97172     2370581\n",
       "97173     2370581\n",
       "97171     2370361\n",
       "255925    2370181\n",
       "133253    2370001\n",
       "96939     2330501\n",
       "32030     2330461\n",
       "104927    2330431\n",
       "135105    2330331\n",
       "244444    2330321\n",
       "228460    2330311\n",
       "115267    2330291\n",
       "99033     2330291\n",
       "99034     2330291\n",
       "215358    2330271\n",
       "135106    2330251\n",
       "1440      2330211\n",
       "80809     2330191\n",
       "169026    2330171\n",
       "135734    2330121\n",
       "169023    2330081\n",
       "172311    2330051\n",
       "238493    2330041\n",
       "19463     2330031\n",
       "19455     2330031\n",
       "105898     883791\n",
       "105899     883791\n",
       "105897     883791\n",
       "39795      880711\n",
       "39794      880711\n",
       "123510     880551\n",
       "39777      880171\n",
       "39778      880171\n",
       "191118     862501\n",
       "191117     862501\n",
       "191105     861961\n",
       "140568     861951\n",
       "123456     861921\n",
       "25107      272392\n",
       "25108      272392\n",
       "25109      272392\n",
       "25110      272392\n",
       "258555     272391\n",
       "28115      272390\n",
       "Name: LYLTY_CARD_NBR, dtype: int64"
      ]
     },
     "execution_count": 8,
     "metadata": {},
     "output_type": "execute_result"
    }
   ],
   "source": [
    "transact.LYLTY_CARD_NBR.sort_values(ascending=False).head(50)"
   ]
  },
  {
   "cell_type": "code",
   "execution_count": 9,
   "id": "babd0965",
   "metadata": {},
   "outputs": [
    {
     "data": {
      "text/plain": [
       "15726     2415841\n",
       "25110      270209\n",
       "25109      270208\n",
       "25108      270207\n",
       "25107      270206\n",
       "258555     270205\n",
       "28115      270204\n",
       "258554     270202\n",
       "258553     270201\n",
       "258552     270200\n",
       "135104     270199\n",
       "135103     270198\n",
       "99032      270197\n",
       "99031      270196\n",
       "118034     270195\n",
       "135102     270194\n",
       "135101     270193\n",
       "135100     270192\n",
       "135099     270191\n",
       "99030      270190\n",
       "264835     270189\n",
       "264834     270188\n",
       "264833     270187\n",
       "258551     270186\n",
       "258550     270185\n",
       "258549     270184\n",
       "135098     270183\n",
       "135097     270182\n",
       "135096     270181\n",
       "99029      270180\n",
       "171771     270179\n",
       "171770     270178\n",
       "171769     270177\n",
       "228459     270176\n",
       "150305     270175\n",
       "150304     270174\n",
       "150303     270173\n",
       "258548     270172\n",
       "258547     270171\n",
       "99028      270170\n",
       "99027      270169\n",
       "99026      270168\n",
       "216896     270166\n",
       "216895     270165\n",
       "216894     270164\n",
       "216893     270163\n",
       "135095     270162\n",
       "117350     270161\n",
       "117349     270160\n",
       "117348     270159\n",
       "Name: TXN_ID, dtype: int64"
      ]
     },
     "execution_count": 9,
     "metadata": {},
     "output_type": "execute_result"
    }
   ],
   "source": [
    "transact.TXN_ID.sort_values(ascending=False).head(50)"
   ]
  },
  {
   "cell_type": "code",
   "execution_count": 10,
   "id": "4ef824d6",
   "metadata": {},
   "outputs": [],
   "source": [
    "index_outliers_TXN_ID = transact.TXN_ID.idxmax()"
   ]
  },
  {
   "cell_type": "code",
   "execution_count": 11,
   "id": "395f85e1",
   "metadata": {},
   "outputs": [
    {
     "data": {
      "text/plain": [
       "array([[<matplotlib.axes._subplots.AxesSubplot object at 0x7f1954465a00>]],\n",
       "      dtype=object)"
      ]
     },
     "execution_count": 11,
     "metadata": {},
     "output_type": "execute_result"
    },
    {
     "data": {
      "image/png": "[encoded data removed]",
      "text/plain": [
       "<Figure size 1600x1200 with 1 Axes>"
      ]
     },
     "metadata": {},
     "output_type": "display_data"
    }
   ],
   "source": [
    "cust.hist(bins=100)"
   ]
  },
  {
   "cell_type": "markdown",
   "id": "862f0f35",
   "metadata": {},
   "source": [
    "#### I see that numbers of outliers in Loyalty_cards match in both datasets, so they are not outliers, and should be taken into consideration."
   ]
  },
  {
   "cell_type": "code",
   "execution_count": 12,
   "id": "0d1b2700",
   "metadata": {},
   "outputs": [
    {
     "data": {
      "text/plain": [
       "69762     200\n",
       "69763     200\n",
       "217237      5\n",
       "238333      5\n",
       "238471      5\n",
       "         ... \n",
       "82354       1\n",
       "82357       1\n",
       "172438      1\n",
       "82358       1\n",
       "32479       1\n",
       "Name: PROD_QTY, Length: 264836, dtype: int64"
      ]
     },
     "execution_count": 12,
     "metadata": {},
     "output_type": "execute_result"
    }
   ],
   "source": [
    "transact.PROD_QTY.sort_values(ascending=False)"
   ]
  },
  {
   "cell_type": "code",
   "execution_count": 13,
   "id": "746f532c",
   "metadata": {},
   "outputs": [
    {
     "data": {
      "text/plain": [
       "2      236039\n",
       "1       27518\n",
       "5         450\n",
       "3         430\n",
       "4         397\n",
       "200         2\n",
       "Name: PROD_QTY, dtype: int64"
      ]
     },
     "execution_count": 13,
     "metadata": {},
     "output_type": "execute_result"
    }
   ],
   "source": [
    "transact.PROD_QTY.value_counts()"
   ]
  },
  {
   "cell_type": "markdown",
   "id": "2f879e30",
   "metadata": {},
   "source": [
    "#### Quantity of products equal 200 strongly looks like outliers, there should be number 2 as a volume."
   ]
  },
  {
   "cell_type": "code",
   "execution_count": 14,
   "id": "e3a92e29",
   "metadata": {},
   "outputs": [],
   "source": [
    "transact.PROD_QTY.replace(to_replace=200, value=2,  inplace=True)"
   ]
  },
  {
   "cell_type": "code",
   "execution_count": 15,
   "id": "08a5a35a",
   "metadata": {},
   "outputs": [
    {
     "data": {
      "text/plain": [
       "2    236041\n",
       "1     27518\n",
       "5       450\n",
       "3       430\n",
       "4       397\n",
       "Name: PROD_QTY, dtype: int64"
      ]
     },
     "execution_count": 15,
     "metadata": {},
     "output_type": "execute_result"
    }
   ],
   "source": [
    "transact.PROD_QTY.value_counts()"
   ]
  },
  {
   "cell_type": "code",
   "execution_count": 16,
   "id": "61ac8564",
   "metadata": {},
   "outputs": [
    {
     "data": {
      "text/plain": [
       "Index(['DATE', 'STORE_NBR', 'LYLTY_CARD_NBR', 'TXN_ID', 'PROD_NBR',\n",
       "       'PROD_NAME', 'PROD_QTY', 'TOT_SALES'],\n",
       "      dtype='object')"
      ]
     },
     "execution_count": 16,
     "metadata": {},
     "output_type": "execute_result"
    }
   ],
   "source": [
    "transact.columns"
   ]
  },
  {
   "cell_type": "code",
   "execution_count": 17,
   "id": "09e54542",
   "metadata": {},
   "outputs": [
    {
     "data": {
      "text/plain": [
       "69762     650.0\n",
       "69763     650.0\n",
       "69496      29.5\n",
       "55558      29.5\n",
       "171815     29.5\n",
       "          ...  \n",
       "259695      1.5\n",
       "259707      1.5\n",
       "197005      1.5\n",
       "216449      1.5\n",
       "150019      1.5\n",
       "Name: TOT_SALES, Length: 264836, dtype: float64"
      ]
     },
     "execution_count": 17,
     "metadata": {},
     "output_type": "execute_result"
    }
   ],
   "source": [
    "transact.TOT_SALES.sort_values(ascending=False)"
   ]
  },
  {
   "cell_type": "markdown",
   "id": "1ab7cdcf",
   "metadata": {},
   "source": [
    "## I see strange recordings with ID 69762 and 69763, there are mistakes in three columns. It will be better drop them, as there are sufficient number of samples in datasets."
   ]
  },
  {
   "cell_type": "code",
   "execution_count": 18,
   "id": "83a689b4",
   "metadata": {},
   "outputs": [],
   "source": [
    "transact.drop(index=[69762, 69763], axis=0, inplace=True)"
   ]
  },
  {
   "cell_type": "code",
   "execution_count": 19,
   "id": "17dd5ea3",
   "metadata": {},
   "outputs": [
    {
     "data": {
      "text/plain": [
       "array([[<matplotlib.axes._subplots.AxesSubplot object at 0x7f198c3dff40>,\n",
       "        <matplotlib.axes._subplots.AxesSubplot object at 0x7f1950544f40>,\n",
       "        <matplotlib.axes._subplots.AxesSubplot object at 0x7f195189ba00>],\n",
       "       [<matplotlib.axes._subplots.AxesSubplot object at 0x7f19518d0280>,\n",
       "        <matplotlib.axes._subplots.AxesSubplot object at 0x7f195187aac0>,\n",
       "        <matplotlib.axes._subplots.AxesSubplot object at 0x7f1951830340>],\n",
       "       [<matplotlib.axes._subplots.AxesSubplot object at 0x7f195183f250>,\n",
       "        <matplotlib.axes._subplots.AxesSubplot object at 0x7f19517a0340>,\n",
       "        <matplotlib.axes._subplots.AxesSubplot object at 0x7f19517a0490>]],\n",
       "      dtype=object)"
      ]
     },
     "execution_count": 19,
     "metadata": {},
     "output_type": "execute_result"
    },
    {
     "data": {
      "image/png": "[encoded data removed]",
      "text/plain": [
       "<Figure size 1600x1200 with 9 Axes>"
      ]
     },
     "metadata": {},
     "output_type": "display_data"
    }
   ],
   "source": [
    "transact.hist(bins=100)"
   ]
  },
  {
   "cell_type": "code",
   "execution_count": 20,
   "id": "9154e9ed",
   "metadata": {},
   "outputs": [
    {
     "data": {
      "text/plain": [
       "Index(['DATE', 'STORE_NBR', 'LYLTY_CARD_NBR', 'TXN_ID', 'PROD_NBR',\n",
       "       'PROD_NAME', 'PROD_QTY', 'TOT_SALES'],\n",
       "      dtype='object')"
      ]
     },
     "execution_count": 20,
     "metadata": {},
     "output_type": "execute_result"
    }
   ],
   "source": [
    "transact.columns"
   ]
  },
  {
   "cell_type": "code",
   "execution_count": 21,
   "id": "2721cb4c",
   "metadata": {},
   "outputs": [],
   "source": [
    "renaming_columns = {'DATE': 'transaction_date',\n",
    "                   'STORE_NBR': 'store_number',\n",
    "                   'LYLTY_CARD_NBR': 'loyalty_card_number',\n",
    "                   'TXN_ID': 'tax_ID',\n",
    "                   'PROD_NBR': 'product_number',\n",
    "                   'PROD_NAME': 'product_name',\n",
    "                   'PROD_QTY': 'product_quantity',\n",
    "                   'TOT_SALES': 'total_sales'}"
   ]
  },
  {
   "cell_type": "code",
   "execution_count": 22,
   "id": "a068a330",
   "metadata": {},
   "outputs": [],
   "source": [
    "transact.rename(renaming_columns, axis=1, inplace=True)"
   ]
  },
  {
   "cell_type": "code",
   "execution_count": 23,
   "id": "2cdf05a0",
   "metadata": {},
   "outputs": [
    {
     "data": {
      "text/plain": [
       "Index(['LYLTY_CARD_NBR', 'LIFESTAGE', 'PREMIUM_CUSTOMER'], dtype='object')"
      ]
     },
     "execution_count": 23,
     "metadata": {},
     "output_type": "execute_result"
    }
   ],
   "source": [
    "cust.columns"
   ]
  },
  {
   "cell_type": "code",
   "execution_count": 24,
   "id": "3a7a3b4f",
   "metadata": {},
   "outputs": [],
   "source": [
    "renaming_columns_cust = {'LYLTY_CARD_NBR': 'loyalty_card_number',\n",
    "                        'LIFESTAGE': 'lifestage',\n",
    "                        'PREMIUM_CUSTOMER': 'premium_customer'}"
   ]
  },
  {
   "cell_type": "code",
   "execution_count": 25,
   "id": "02049f38",
   "metadata": {},
   "outputs": [],
   "source": [
    "cust.rename(renaming_columns_cust, axis=1, inplace=True)"
   ]
  },
  {
   "cell_type": "code",
   "execution_count": 26,
   "id": "f1a02aac",
   "metadata": {},
   "outputs": [
    {
     "data": {
      "text/html": [
       "<div>\n",
       "<style scoped>\n",
       "    .dataframe tbody tr th:only-of-type {\n",
       "        vertical-align: middle;\n",
       "    }\n",
       "\n",
       "    .dataframe tbody tr th {\n",
       "        vertical-align: top;\n",
       "    }\n",
       "\n",
       "    .dataframe thead th {\n",
       "        text-align: right;\n",
       "    }\n",
       "</style>\n",
       "<table border=\"1\" class=\"dataframe\">\n",
       "  <thead>\n",
       "    <tr style=\"text-align: right;\">\n",
       "      <th></th>\n",
       "      <th>transaction_date</th>\n",
       "      <th>store_number</th>\n",
       "      <th>loyalty_card_number</th>\n",
       "      <th>tax_ID</th>\n",
       "      <th>product_number</th>\n",
       "      <th>product_name</th>\n",
       "      <th>product_quantity</th>\n",
       "      <th>total_sales</th>\n",
       "    </tr>\n",
       "  </thead>\n",
       "  <tbody>\n",
       "    <tr>\n",
       "      <th>0</th>\n",
       "      <td>2018-10-17</td>\n",
       "      <td>1</td>\n",
       "      <td>1000</td>\n",
       "      <td>1</td>\n",
       "      <td>5</td>\n",
       "      <td>Natural Chip        Compny SeaSalt175g</td>\n",
       "      <td>2</td>\n",
       "      <td>6.0</td>\n",
       "    </tr>\n",
       "    <tr>\n",
       "      <th>1</th>\n",
       "      <td>2019-05-14</td>\n",
       "      <td>1</td>\n",
       "      <td>1307</td>\n",
       "      <td>348</td>\n",
       "      <td>66</td>\n",
       "      <td>CCs Nacho Cheese    175g</td>\n",
       "      <td>3</td>\n",
       "      <td>6.3</td>\n",
       "    </tr>\n",
       "    <tr>\n",
       "      <th>2</th>\n",
       "      <td>2019-05-20</td>\n",
       "      <td>1</td>\n",
       "      <td>1343</td>\n",
       "      <td>383</td>\n",
       "      <td>61</td>\n",
       "      <td>Smiths Crinkle Cut  Chips Chicken 170g</td>\n",
       "      <td>2</td>\n",
       "      <td>2.9</td>\n",
       "    </tr>\n",
       "    <tr>\n",
       "      <th>3</th>\n",
       "      <td>2018-08-17</td>\n",
       "      <td>2</td>\n",
       "      <td>2373</td>\n",
       "      <td>974</td>\n",
       "      <td>69</td>\n",
       "      <td>Smiths Chip Thinly  S/Cream&amp;Onion 175g</td>\n",
       "      <td>5</td>\n",
       "      <td>15.0</td>\n",
       "    </tr>\n",
       "    <tr>\n",
       "      <th>4</th>\n",
       "      <td>2018-08-18</td>\n",
       "      <td>2</td>\n",
       "      <td>2426</td>\n",
       "      <td>1038</td>\n",
       "      <td>108</td>\n",
       "      <td>Kettle Tortilla ChpsHny&amp;Jlpno Chili 150g</td>\n",
       "      <td>3</td>\n",
       "      <td>13.8</td>\n",
       "    </tr>\n",
       "    <tr>\n",
       "      <th>...</th>\n",
       "      <td>...</td>\n",
       "      <td>...</td>\n",
       "      <td>...</td>\n",
       "      <td>...</td>\n",
       "      <td>...</td>\n",
       "      <td>...</td>\n",
       "      <td>...</td>\n",
       "      <td>...</td>\n",
       "    </tr>\n",
       "    <tr>\n",
       "      <th>264831</th>\n",
       "      <td>2019-03-09</td>\n",
       "      <td>272</td>\n",
       "      <td>272319</td>\n",
       "      <td>270088</td>\n",
       "      <td>89</td>\n",
       "      <td>Kettle Sweet Chilli And Sour Cream 175g</td>\n",
       "      <td>2</td>\n",
       "      <td>10.8</td>\n",
       "    </tr>\n",
       "    <tr>\n",
       "      <th>264832</th>\n",
       "      <td>2018-08-13</td>\n",
       "      <td>272</td>\n",
       "      <td>272358</td>\n",
       "      <td>270154</td>\n",
       "      <td>74</td>\n",
       "      <td>Tostitos Splash Of  Lime 175g</td>\n",
       "      <td>1</td>\n",
       "      <td>4.4</td>\n",
       "    </tr>\n",
       "    <tr>\n",
       "      <th>264833</th>\n",
       "      <td>2018-11-06</td>\n",
       "      <td>272</td>\n",
       "      <td>272379</td>\n",
       "      <td>270187</td>\n",
       "      <td>51</td>\n",
       "      <td>Doritos Mexicana    170g</td>\n",
       "      <td>2</td>\n",
       "      <td>8.8</td>\n",
       "    </tr>\n",
       "    <tr>\n",
       "      <th>264834</th>\n",
       "      <td>2018-12-27</td>\n",
       "      <td>272</td>\n",
       "      <td>272379</td>\n",
       "      <td>270188</td>\n",
       "      <td>42</td>\n",
       "      <td>Doritos Corn Chip Mexican Jalapeno 150g</td>\n",
       "      <td>2</td>\n",
       "      <td>7.8</td>\n",
       "    </tr>\n",
       "    <tr>\n",
       "      <th>264835</th>\n",
       "      <td>2018-09-22</td>\n",
       "      <td>272</td>\n",
       "      <td>272380</td>\n",
       "      <td>270189</td>\n",
       "      <td>74</td>\n",
       "      <td>Tostitos Splash Of  Lime 175g</td>\n",
       "      <td>2</td>\n",
       "      <td>8.8</td>\n",
       "    </tr>\n",
       "  </tbody>\n",
       "</table>\n",
       "<p>264834 rows × 8 columns</p>\n",
       "</div>"
      ],
      "text/plain": [
       "       transaction_date  store_number  loyalty_card_number  tax_ID  \\\n",
       "0            2018-10-17             1                 1000       1   \n",
       "1            2019-05-14             1                 1307     348   \n",
       "2            2019-05-20             1                 1343     383   \n",
       "3            2018-08-17             2                 2373     974   \n",
       "4            2018-08-18             2                 2426    1038   \n",
       "...                 ...           ...                  ...     ...   \n",
       "264831       2019-03-09           272               272319  270088   \n",
       "264832       2018-08-13           272               272358  270154   \n",
       "264833       2018-11-06           272               272379  270187   \n",
       "264834       2018-12-27           272               272379  270188   \n",
       "264835       2018-09-22           272               272380  270189   \n",
       "\n",
       "        product_number                              product_name  \\\n",
       "0                    5    Natural Chip        Compny SeaSalt175g   \n",
       "1                   66                  CCs Nacho Cheese    175g   \n",
       "2                   61    Smiths Crinkle Cut  Chips Chicken 170g   \n",
       "3                   69    Smiths Chip Thinly  S/Cream&Onion 175g   \n",
       "4                  108  Kettle Tortilla ChpsHny&Jlpno Chili 150g   \n",
       "...                ...                                       ...   \n",
       "264831              89   Kettle Sweet Chilli And Sour Cream 175g   \n",
       "264832              74             Tostitos Splash Of  Lime 175g   \n",
       "264833              51                  Doritos Mexicana    170g   \n",
       "264834              42   Doritos Corn Chip Mexican Jalapeno 150g   \n",
       "264835              74             Tostitos Splash Of  Lime 175g   \n",
       "\n",
       "        product_quantity  total_sales  \n",
       "0                      2          6.0  \n",
       "1                      3          6.3  \n",
       "2                      2          2.9  \n",
       "3                      5         15.0  \n",
       "4                      3         13.8  \n",
       "...                  ...          ...  \n",
       "264831                 2         10.8  \n",
       "264832                 1          4.4  \n",
       "264833                 2          8.8  \n",
       "264834                 2          7.8  \n",
       "264835                 2          8.8  \n",
       "\n",
       "[264834 rows x 8 columns]"
      ]
     },
     "execution_count": 26,
     "metadata": {},
     "output_type": "execute_result"
    }
   ],
   "source": [
    "transact"
   ]
  },
  {
   "cell_type": "code",
   "execution_count": 27,
   "id": "ab6bf39c",
   "metadata": {},
   "outputs": [
    {
     "data": {
      "text/plain": [
       "['Natural Chip        Compny SeaSalt175g',\n",
       " 'CCs Nacho Cheese    175g',\n",
       " 'Smiths Crinkle Cut  Chips Chicken 170g',\n",
       " 'Smiths Chip Thinly  S/Cream&Onion 175g',\n",
       " 'Kettle Tortilla ChpsHny&Jlpno Chili 150g',\n",
       " 'Old El Paso Salsa   Dip Tomato Mild 300g',\n",
       " 'Smiths Crinkle Chips Salt & Vinegar 330g',\n",
       " 'Grain Waves         Sweet Chilli 210g',\n",
       " 'Doritos Corn Chip Mexican Jalapeno 150g',\n",
       " 'Grain Waves Sour    Cream&Chives 210G',\n",
       " 'Kettle Sensations   Siracha Lime 150g',\n",
       " 'Twisties Cheese     270g',\n",
       " 'WW Crinkle Cut      Chicken 175g',\n",
       " 'Thins Chips Light&  Tangy 175g',\n",
       " 'CCs Original 175g',\n",
       " 'Burger Rings 220g',\n",
       " 'NCC Sour Cream &    Garden Chives 175g',\n",
       " 'Doritos Corn Chip Southern Chicken 150g',\n",
       " 'Cheezels Cheese Box 125g',\n",
       " 'Smiths Crinkle      Original 330g',\n",
       " 'Infzns Crn Crnchers Tangy Gcamole 110g',\n",
       " 'Kettle Sea Salt     And Vinegar 175g',\n",
       " 'Smiths Chip Thinly  Cut Original 175g',\n",
       " 'Kettle Original 175g',\n",
       " 'Red Rock Deli Thai  Chilli&Lime 150g',\n",
       " 'Pringles Sthrn FriedChicken 134g',\n",
       " 'Pringles Sweet&Spcy BBQ 134g',\n",
       " 'Red Rock Deli SR    Salsa & Mzzrlla 150g',\n",
       " 'Thins Chips         Originl saltd 175g',\n",
       " 'Red Rock Deli Sp    Salt & Truffle 150G',\n",
       " 'Smiths Thinly       Swt Chli&S/Cream175G',\n",
       " 'Kettle Chilli 175g',\n",
       " 'Doritos Mexicana    170g',\n",
       " 'Smiths Crinkle Cut  French OnionDip 150g',\n",
       " 'Natural ChipCo      Hony Soy Chckn175g',\n",
       " 'Dorito Corn Chp     Supreme 380g',\n",
       " 'Twisties Chicken270g',\n",
       " 'Smiths Thinly Cut   Roast Chicken 175g',\n",
       " 'Smiths Crinkle Cut  Tomato Salsa 150g',\n",
       " 'Kettle Mozzarella   Basil & Pesto 175g',\n",
       " 'Infuzions Thai SweetChili PotatoMix 110g',\n",
       " 'Kettle Sensations   Camembert & Fig 150g',\n",
       " 'Smith Crinkle Cut   Mac N Cheese 150g',\n",
       " 'Kettle Honey Soy    Chicken 175g',\n",
       " 'Thins Chips Seasonedchicken 175g',\n",
       " 'Smiths Crinkle Cut  Salt & Vinegar 170g',\n",
       " 'Infuzions BBQ Rib   Prawn Crackers 110g',\n",
       " 'GrnWves Plus Btroot & Chilli Jam 180g',\n",
       " 'Tyrrells Crisps     Lightly Salted 165g',\n",
       " 'Kettle Sweet Chilli And Sour Cream 175g',\n",
       " 'Doritos Salsa       Medium 300g',\n",
       " 'Kettle 135g Swt Pot Sea Salt',\n",
       " 'Pringles SourCream  Onion 134g',\n",
       " 'Doritos Corn Chips  Original 170g',\n",
       " 'Twisties Cheese     Burger 250g',\n",
       " 'Old El Paso Salsa   Dip Chnky Tom Ht300g',\n",
       " 'Cobs Popd Swt/Chlli &Sr/Cream Chips 110g',\n",
       " 'Woolworths Mild     Salsa 300g',\n",
       " 'Natural Chip Co     Tmato Hrb&Spce 175g',\n",
       " 'Smiths Crinkle Cut  Chips Original 170g',\n",
       " 'Cobs Popd Sea Salt  Chips 110g',\n",
       " 'Smiths Crinkle Cut  Chips Chs&Onion170g',\n",
       " 'French Fries Potato Chips 175g',\n",
       " 'Old El Paso Salsa   Dip Tomato Med 300g',\n",
       " 'Doritos Corn Chips  Cheese Supreme 170g',\n",
       " 'Pringles Original   Crisps 134g',\n",
       " 'RRD Chilli&         Coconut 150g',\n",
       " 'WW Original Corn    Chips 200g',\n",
       " 'Thins Potato Chips  Hot & Spicy 175g',\n",
       " 'Cobs Popd Sour Crm  &Chives Chips 110g',\n",
       " 'Smiths Crnkle Chip  Orgnl Big Bag 380g',\n",
       " 'Doritos Corn Chips  Nacho Cheese 170g',\n",
       " 'Kettle Sensations   BBQ&Maple 150g',\n",
       " 'WW D/Style Chip     Sea Salt 200g',\n",
       " 'Pringles Chicken    Salt Crips 134g',\n",
       " 'WW Original Stacked Chips 160g',\n",
       " 'Smiths Chip Thinly  CutSalt/Vinegr175g',\n",
       " 'Cheezels Cheese 330g',\n",
       " 'Tostitos Lightly    Salted 175g',\n",
       " 'Thins Chips Salt &  Vinegar 175g',\n",
       " 'Smiths Crinkle Cut  Chips Barbecue 170g',\n",
       " 'Cheetos Puffs 165g',\n",
       " 'RRD Sweet Chilli &  Sour Cream 165g',\n",
       " 'WW Crinkle Cut      Original 175g',\n",
       " 'Tostitos Splash Of  Lime 175g',\n",
       " 'Woolworths Medium   Salsa 300g',\n",
       " 'Kettle Tortilla ChpsBtroot&Ricotta 150g',\n",
       " 'CCs Tasty Cheese    175g',\n",
       " 'Woolworths Cheese   Rings 190g',\n",
       " 'Tostitos Smoked     Chipotle 175g',\n",
       " 'Pringles Barbeque   134g',\n",
       " 'WW Supreme Cheese   Corn Chips 200g',\n",
       " 'Pringles Mystery    Flavour 134g',\n",
       " 'Tyrrells Crisps     Ched & Chives 165g',\n",
       " 'Snbts Whlgrn Crisps Cheddr&Mstrd 90g',\n",
       " 'Cheetos Chs & Bacon Balls 190g',\n",
       " 'Pringles Slt Vingar 134g',\n",
       " 'Infuzions SourCream&Herbs Veg Strws 110g',\n",
       " 'Kettle Tortilla ChpsFeta&Garlic 150g',\n",
       " 'Infuzions Mango     Chutny Papadums 70g',\n",
       " 'RRD Steak &         Chimuchurri 150g',\n",
       " 'RRD Honey Soy       Chicken 165g',\n",
       " 'Sunbites Whlegrn    Crisps Frch/Onin 90g',\n",
       " 'RRD Salt & Vinegar  165g',\n",
       " 'Doritos Cheese      Supreme 330g',\n",
       " 'Smiths Crinkle Cut  Snag&Sauce 150g',\n",
       " 'WW Sour Cream &OnionStacked Chips 160g',\n",
       " 'RRD Lime & Pepper   165g',\n",
       " 'Natural ChipCo Sea  Salt & Vinegr 175g',\n",
       " 'Red Rock Deli Chikn&Garlic Aioli 150g',\n",
       " 'RRD SR Slow Rst     Pork Belly 150g',\n",
       " 'RRD Pc Sea Salt     165g',\n",
       " 'Smith Crinkle Cut   Bolognese 150g',\n",
       " 'Doritos Salsa Mild  300g']"
      ]
     },
     "execution_count": 27,
     "metadata": {},
     "output_type": "execute_result"
    }
   ],
   "source": [
    "(list(transact.product_name.unique()))"
   ]
  },
  {
   "cell_type": "markdown",
   "id": "cab897d0",
   "metadata": {},
   "source": [
    "## Let's create new columns with weights_of_chips and company_names.\n"
   ]
  },
  {
   "cell_type": "code",
   "execution_count": 28,
   "id": "3816ad82",
   "metadata": {},
   "outputs": [],
   "source": [
    "import re\n",
    "def abstract_weights(string):\n",
    "    prog = re.compile('[0-9]')\n",
    "    res = ''.join(prog.findall(string))\n",
    "    return res\n",
    "    "
   ]
  },
  {
   "cell_type": "code",
   "execution_count": 29,
   "id": "9d1935c4",
   "metadata": {},
   "outputs": [],
   "source": [
    "transact['weights_of_chips']  = transact.product_name.apply(abstract_weights)"
   ]
  },
  {
   "cell_type": "code",
   "execution_count": 30,
   "id": "6646c6b5",
   "metadata": {},
   "outputs": [
    {
     "data": {
      "text/plain": [
       "array(['175', '170', '150', '300', '330', '210', '270', '220', '125',\n",
       "       '110', '134', '380', '180', '165', '135', '250', '200', '160',\n",
       "       '190', '90', '70'], dtype=object)"
      ]
     },
     "execution_count": 30,
     "metadata": {},
     "output_type": "execute_result"
    }
   ],
   "source": [
    "transact.weights_of_chips.unique()"
   ]
  },
  {
   "cell_type": "code",
   "execution_count": 31,
   "id": "e1f66a24",
   "metadata": {},
   "outputs": [],
   "source": [
    "def company_names(string):\n",
    "    temp = string.split()\n",
    "    return ' '.join(temp[0:1])"
   ]
  },
  {
   "cell_type": "code",
   "execution_count": 32,
   "id": "5ecae906",
   "metadata": {},
   "outputs": [],
   "source": [
    "transact['company_name'] = transact.product_name.apply(company_names)"
   ]
  },
  {
   "cell_type": "code",
   "execution_count": 33,
   "id": "82908e8e",
   "metadata": {},
   "outputs": [
    {
     "data": {
      "text/plain": [
       "['Natural',\n",
       " 'CCs',\n",
       " 'Smiths',\n",
       " 'Kettle',\n",
       " 'Old',\n",
       " 'Grain',\n",
       " 'Doritos',\n",
       " 'Twisties',\n",
       " 'WW',\n",
       " 'Thins',\n",
       " 'Burger',\n",
       " 'NCC',\n",
       " 'Cheezels',\n",
       " 'Infzns',\n",
       " 'Red',\n",
       " 'Pringles',\n",
       " 'Dorito',\n",
       " 'Infuzions',\n",
       " 'Smith',\n",
       " 'GrnWves',\n",
       " 'Tyrrells',\n",
       " 'Cobs',\n",
       " 'Woolworths',\n",
       " 'French',\n",
       " 'RRD',\n",
       " 'Tostitos',\n",
       " 'Cheetos',\n",
       " 'Snbts',\n",
       " 'Sunbites']"
      ]
     },
     "execution_count": 33,
     "metadata": {},
     "output_type": "execute_result"
    }
   ],
   "source": [
    "list(transact.company_name.unique())"
   ]
  },
  {
   "cell_type": "markdown",
   "id": "0e6895ac",
   "metadata": {},
   "source": [
    "## Some of the brand names look like they are of the same brands - such as RED and RRD, which are both Red Rock Deli chips. Let's combine these together."
   ]
  },
  {
   "cell_type": "code",
   "execution_count": 34,
   "id": "7fef2785",
   "metadata": {},
   "outputs": [],
   "source": [
    "transact.company_name = transact.company_name.replace(to_replace='RRD', value='Red')\n",
    "transact.company_name = transact.company_name.replace(to_replace=\"SNBTS\", value=\"SUNBITES\")\n",
    "transact.company_name = transact.company_name.replace(to_replace=\"INFZNS\", value=\"INFUZIONS\")\n",
    "transact.company_name = transact.company_name.replace(to_replace=\"WW\", value=\"WOOLWORTHS\")\n",
    "transact.company_name = transact.company_name.replace(to_replace=\"SMITH\", value=\"SMITHS\")\n",
    "transact.company_name = transact.company_name.replace(to_replace=\"NCC\", value=\"NATURAL\")\n",
    "transact.company_name = transact.company_name.replace(to_replace=\"DORITO\", value=\"DORITOS\")\n",
    "transact.company_name = transact.company_name.replace(to_replace=\"GRAIN\", value=\"GRNWVES\")"
   ]
  },
  {
   "cell_type": "code",
   "execution_count": 35,
   "id": "79b2078a",
   "metadata": {},
   "outputs": [
    {
     "data": {
      "text/plain": [
       "array(['Natural', 'CCs', 'Smiths', 'Kettle', 'Old', 'Grain', 'Doritos',\n",
       "       'Twisties', 'WOOLWORTHS', 'Thins', 'Burger', 'NATURAL', 'Cheezels',\n",
       "       'Infzns', 'Red', 'Pringles', 'Dorito', 'Infuzions', 'Smith',\n",
       "       'GrnWves', 'Tyrrells', 'Cobs', 'Woolworths', 'French', 'Tostitos',\n",
       "       'Cheetos', 'Snbts', 'Sunbites'], dtype=object)"
      ]
     },
     "execution_count": 35,
     "metadata": {},
     "output_type": "execute_result"
    }
   ],
   "source": [
    "transact.company_name.unique()"
   ]
  },
  {
   "cell_type": "markdown",
   "id": "fcc49ce8",
   "metadata": {},
   "source": [
    "## We should use only chips product - thus separate chips from occasionally appeared there other products.¶"
   ]
  },
  {
   "cell_type": "code",
   "execution_count": 36,
   "id": "d5d451c0",
   "metadata": {},
   "outputs": [
    {
     "data": {
      "text/html": [
       "<div>\n",
       "<style scoped>\n",
       "    .dataframe tbody tr th:only-of-type {\n",
       "        vertical-align: middle;\n",
       "    }\n",
       "\n",
       "    .dataframe tbody tr th {\n",
       "        vertical-align: top;\n",
       "    }\n",
       "\n",
       "    .dataframe thead th {\n",
       "        text-align: right;\n",
       "    }\n",
       "</style>\n",
       "<table border=\"1\" class=\"dataframe\">\n",
       "  <thead>\n",
       "    <tr style=\"text-align: right;\">\n",
       "      <th></th>\n",
       "      <th>transaction_date</th>\n",
       "      <th>store_number</th>\n",
       "      <th>loyalty_card_number</th>\n",
       "      <th>tax_ID</th>\n",
       "      <th>product_number</th>\n",
       "      <th>product_name</th>\n",
       "      <th>product_quantity</th>\n",
       "      <th>total_sales</th>\n",
       "      <th>weights_of_chips</th>\n",
       "      <th>company_name</th>\n",
       "    </tr>\n",
       "  </thead>\n",
       "  <tbody>\n",
       "    <tr>\n",
       "      <th>0</th>\n",
       "      <td>2018-10-17</td>\n",
       "      <td>1</td>\n",
       "      <td>1000</td>\n",
       "      <td>1</td>\n",
       "      <td>5</td>\n",
       "      <td>Natural Chip        Compny SeaSalt175g</td>\n",
       "      <td>2</td>\n",
       "      <td>6.00</td>\n",
       "      <td>175</td>\n",
       "      <td>Natural</td>\n",
       "    </tr>\n",
       "    <tr>\n",
       "      <th>1</th>\n",
       "      <td>2019-05-14</td>\n",
       "      <td>1</td>\n",
       "      <td>1307</td>\n",
       "      <td>348</td>\n",
       "      <td>66</td>\n",
       "      <td>CCs Nacho Cheese    175g</td>\n",
       "      <td>3</td>\n",
       "      <td>6.30</td>\n",
       "      <td>175</td>\n",
       "      <td>CCs</td>\n",
       "    </tr>\n",
       "    <tr>\n",
       "      <th>2</th>\n",
       "      <td>2019-05-20</td>\n",
       "      <td>1</td>\n",
       "      <td>1343</td>\n",
       "      <td>383</td>\n",
       "      <td>61</td>\n",
       "      <td>Smiths Crinkle Cut  Chips Chicken 170g</td>\n",
       "      <td>2</td>\n",
       "      <td>2.90</td>\n",
       "      <td>170</td>\n",
       "      <td>Smiths</td>\n",
       "    </tr>\n",
       "    <tr>\n",
       "      <th>3</th>\n",
       "      <td>2018-08-17</td>\n",
       "      <td>2</td>\n",
       "      <td>2373</td>\n",
       "      <td>974</td>\n",
       "      <td>69</td>\n",
       "      <td>Smiths Chip Thinly  S/Cream&amp;Onion 175g</td>\n",
       "      <td>5</td>\n",
       "      <td>15.00</td>\n",
       "      <td>175</td>\n",
       "      <td>Smiths</td>\n",
       "    </tr>\n",
       "    <tr>\n",
       "      <th>4</th>\n",
       "      <td>2018-08-18</td>\n",
       "      <td>2</td>\n",
       "      <td>2426</td>\n",
       "      <td>1038</td>\n",
       "      <td>108</td>\n",
       "      <td>Kettle Tortilla ChpsHny&amp;Jlpno Chili 150g</td>\n",
       "      <td>3</td>\n",
       "      <td>13.80</td>\n",
       "      <td>150</td>\n",
       "      <td>Kettle</td>\n",
       "    </tr>\n",
       "    <tr>\n",
       "      <th>5</th>\n",
       "      <td>2019-05-19</td>\n",
       "      <td>4</td>\n",
       "      <td>4074</td>\n",
       "      <td>2982</td>\n",
       "      <td>57</td>\n",
       "      <td>Old El Paso Salsa   Dip Tomato Mild 300g</td>\n",
       "      <td>1</td>\n",
       "      <td>5.10</td>\n",
       "      <td>300</td>\n",
       "      <td>Old</td>\n",
       "    </tr>\n",
       "    <tr>\n",
       "      <th>6</th>\n",
       "      <td>2019-05-16</td>\n",
       "      <td>4</td>\n",
       "      <td>4149</td>\n",
       "      <td>3333</td>\n",
       "      <td>16</td>\n",
       "      <td>Smiths Crinkle Chips Salt &amp; Vinegar 330g</td>\n",
       "      <td>1</td>\n",
       "      <td>5.70</td>\n",
       "      <td>330</td>\n",
       "      <td>Smiths</td>\n",
       "    </tr>\n",
       "    <tr>\n",
       "      <th>7</th>\n",
       "      <td>2019-05-16</td>\n",
       "      <td>4</td>\n",
       "      <td>4196</td>\n",
       "      <td>3539</td>\n",
       "      <td>24</td>\n",
       "      <td>Grain Waves         Sweet Chilli 210g</td>\n",
       "      <td>1</td>\n",
       "      <td>3.60</td>\n",
       "      <td>210</td>\n",
       "      <td>Grain</td>\n",
       "    </tr>\n",
       "    <tr>\n",
       "      <th>8</th>\n",
       "      <td>2018-08-20</td>\n",
       "      <td>5</td>\n",
       "      <td>5026</td>\n",
       "      <td>4525</td>\n",
       "      <td>42</td>\n",
       "      <td>Doritos Corn Chip Mexican Jalapeno 150g</td>\n",
       "      <td>1</td>\n",
       "      <td>3.90</td>\n",
       "      <td>150</td>\n",
       "      <td>Doritos</td>\n",
       "    </tr>\n",
       "    <tr>\n",
       "      <th>9</th>\n",
       "      <td>2018-08-18</td>\n",
       "      <td>7</td>\n",
       "      <td>7150</td>\n",
       "      <td>6900</td>\n",
       "      <td>52</td>\n",
       "      <td>Grain Waves Sour    Cream&amp;Chives 210G</td>\n",
       "      <td>2</td>\n",
       "      <td>7.20</td>\n",
       "      <td>210</td>\n",
       "      <td>Grain</td>\n",
       "    </tr>\n",
       "    <tr>\n",
       "      <th>10</th>\n",
       "      <td>2019-05-17</td>\n",
       "      <td>7</td>\n",
       "      <td>7215</td>\n",
       "      <td>7176</td>\n",
       "      <td>16</td>\n",
       "      <td>Smiths Crinkle Chips Salt &amp; Vinegar 330g</td>\n",
       "      <td>1</td>\n",
       "      <td>5.70</td>\n",
       "      <td>330</td>\n",
       "      <td>Smiths</td>\n",
       "    </tr>\n",
       "    <tr>\n",
       "      <th>11</th>\n",
       "      <td>2018-08-20</td>\n",
       "      <td>8</td>\n",
       "      <td>8294</td>\n",
       "      <td>8221</td>\n",
       "      <td>114</td>\n",
       "      <td>Kettle Sensations   Siracha Lime 150g</td>\n",
       "      <td>5</td>\n",
       "      <td>23.00</td>\n",
       "      <td>150</td>\n",
       "      <td>Kettle</td>\n",
       "    </tr>\n",
       "    <tr>\n",
       "      <th>12</th>\n",
       "      <td>2019-05-18</td>\n",
       "      <td>9</td>\n",
       "      <td>9208</td>\n",
       "      <td>8634</td>\n",
       "      <td>15</td>\n",
       "      <td>Twisties Cheese     270g</td>\n",
       "      <td>2</td>\n",
       "      <td>9.20</td>\n",
       "      <td>270</td>\n",
       "      <td>Twisties</td>\n",
       "    </tr>\n",
       "    <tr>\n",
       "      <th>13</th>\n",
       "      <td>2018-08-17</td>\n",
       "      <td>13</td>\n",
       "      <td>13213</td>\n",
       "      <td>12447</td>\n",
       "      <td>92</td>\n",
       "      <td>WW Crinkle Cut      Chicken 175g</td>\n",
       "      <td>1</td>\n",
       "      <td>1.70</td>\n",
       "      <td>175</td>\n",
       "      <td>WOOLWORTHS</td>\n",
       "    </tr>\n",
       "    <tr>\n",
       "      <th>14</th>\n",
       "      <td>2019-05-15</td>\n",
       "      <td>19</td>\n",
       "      <td>19272</td>\n",
       "      <td>16686</td>\n",
       "      <td>44</td>\n",
       "      <td>Thins Chips Light&amp;  Tangy 175g</td>\n",
       "      <td>1</td>\n",
       "      <td>3.30</td>\n",
       "      <td>175</td>\n",
       "      <td>Thins</td>\n",
       "    </tr>\n",
       "    <tr>\n",
       "      <th>15</th>\n",
       "      <td>2019-05-19</td>\n",
       "      <td>20</td>\n",
       "      <td>20164</td>\n",
       "      <td>17136</td>\n",
       "      <td>54</td>\n",
       "      <td>CCs Original 175g</td>\n",
       "      <td>1</td>\n",
       "      <td>2.10</td>\n",
       "      <td>175</td>\n",
       "      <td>CCs</td>\n",
       "    </tr>\n",
       "    <tr>\n",
       "      <th>16</th>\n",
       "      <td>2018-08-18</td>\n",
       "      <td>20</td>\n",
       "      <td>20418</td>\n",
       "      <td>17413</td>\n",
       "      <td>94</td>\n",
       "      <td>Burger Rings 220g</td>\n",
       "      <td>4</td>\n",
       "      <td>9.20</td>\n",
       "      <td>220</td>\n",
       "      <td>Burger</td>\n",
       "    </tr>\n",
       "    <tr>\n",
       "      <th>17</th>\n",
       "      <td>2018-08-14</td>\n",
       "      <td>22</td>\n",
       "      <td>22411</td>\n",
       "      <td>18646</td>\n",
       "      <td>98</td>\n",
       "      <td>NCC Sour Cream &amp;    Garden Chives 175g</td>\n",
       "      <td>1</td>\n",
       "      <td>3.00</td>\n",
       "      <td>175</td>\n",
       "      <td>NATURAL</td>\n",
       "    </tr>\n",
       "    <tr>\n",
       "      <th>18</th>\n",
       "      <td>2018-08-17</td>\n",
       "      <td>22</td>\n",
       "      <td>22456</td>\n",
       "      <td>18696</td>\n",
       "      <td>93</td>\n",
       "      <td>Doritos Corn Chip Southern Chicken 150g</td>\n",
       "      <td>1</td>\n",
       "      <td>3.90</td>\n",
       "      <td>150</td>\n",
       "      <td>Doritos</td>\n",
       "    </tr>\n",
       "    <tr>\n",
       "      <th>19</th>\n",
       "      <td>2019-05-16</td>\n",
       "      <td>23</td>\n",
       "      <td>23067</td>\n",
       "      <td>19162</td>\n",
       "      <td>56</td>\n",
       "      <td>Cheezels Cheese Box 125g</td>\n",
       "      <td>1</td>\n",
       "      <td>2.10</td>\n",
       "      <td>125</td>\n",
       "      <td>Cheezels</td>\n",
       "    </tr>\n",
       "    <tr>\n",
       "      <th>20</th>\n",
       "      <td>2019-05-19</td>\n",
       "      <td>25</td>\n",
       "      <td>25105</td>\n",
       "      <td>21815</td>\n",
       "      <td>7</td>\n",
       "      <td>Smiths Crinkle      Original 330g</td>\n",
       "      <td>1</td>\n",
       "      <td>5.70</td>\n",
       "      <td>330</td>\n",
       "      <td>Smiths</td>\n",
       "    </tr>\n",
       "    <tr>\n",
       "      <th>21</th>\n",
       "      <td>2018-08-16</td>\n",
       "      <td>33</td>\n",
       "      <td>33081</td>\n",
       "      <td>29949</td>\n",
       "      <td>98</td>\n",
       "      <td>NCC Sour Cream &amp;    Garden Chives 175g</td>\n",
       "      <td>1</td>\n",
       "      <td>3.00</td>\n",
       "      <td>175</td>\n",
       "      <td>NATURAL</td>\n",
       "    </tr>\n",
       "    <tr>\n",
       "      <th>22</th>\n",
       "      <td>2018-08-16</td>\n",
       "      <td>36</td>\n",
       "      <td>36012</td>\n",
       "      <td>32077</td>\n",
       "      <td>31</td>\n",
       "      <td>Infzns Crn Crnchers Tangy Gcamole 110g</td>\n",
       "      <td>1</td>\n",
       "      <td>3.80</td>\n",
       "      <td>110</td>\n",
       "      <td>Infzns</td>\n",
       "    </tr>\n",
       "    <tr>\n",
       "      <th>23</th>\n",
       "      <td>2018-08-19</td>\n",
       "      <td>36</td>\n",
       "      <td>36302</td>\n",
       "      <td>33188</td>\n",
       "      <td>32</td>\n",
       "      <td>Kettle Sea Salt     And Vinegar 175g</td>\n",
       "      <td>1</td>\n",
       "      <td>5.40</td>\n",
       "      <td>175</td>\n",
       "      <td>Kettle</td>\n",
       "    </tr>\n",
       "    <tr>\n",
       "      <th>24</th>\n",
       "      <td>2018-08-15</td>\n",
       "      <td>38</td>\n",
       "      <td>38142</td>\n",
       "      <td>34181</td>\n",
       "      <td>108</td>\n",
       "      <td>Kettle Tortilla ChpsHny&amp;Jlpno Chili 150g</td>\n",
       "      <td>2</td>\n",
       "      <td>9.20</td>\n",
       "      <td>150</td>\n",
       "      <td>Kettle</td>\n",
       "    </tr>\n",
       "    <tr>\n",
       "      <th>25</th>\n",
       "      <td>2019-05-15</td>\n",
       "      <td>39</td>\n",
       "      <td>39144</td>\n",
       "      <td>35506</td>\n",
       "      <td>57</td>\n",
       "      <td>Old El Paso Salsa   Dip Tomato Mild 300g</td>\n",
       "      <td>1</td>\n",
       "      <td>5.10</td>\n",
       "      <td>300</td>\n",
       "      <td>Old</td>\n",
       "    </tr>\n",
       "    <tr>\n",
       "      <th>26</th>\n",
       "      <td>2018-08-19</td>\n",
       "      <td>39</td>\n",
       "      <td>39167</td>\n",
       "      <td>35638</td>\n",
       "      <td>111</td>\n",
       "      <td>Smiths Chip Thinly  Cut Original 175g</td>\n",
       "      <td>2</td>\n",
       "      <td>6.00</td>\n",
       "      <td>175</td>\n",
       "      <td>Smiths</td>\n",
       "    </tr>\n",
       "    <tr>\n",
       "      <th>27</th>\n",
       "      <td>2019-05-15</td>\n",
       "      <td>41</td>\n",
       "      <td>41423</td>\n",
       "      <td>38393</td>\n",
       "      <td>46</td>\n",
       "      <td>Kettle Original 175g</td>\n",
       "      <td>1</td>\n",
       "      <td>5.40</td>\n",
       "      <td>175</td>\n",
       "      <td>Kettle</td>\n",
       "    </tr>\n",
       "    <tr>\n",
       "      <th>28</th>\n",
       "      <td>2018-08-15</td>\n",
       "      <td>41</td>\n",
       "      <td>41486</td>\n",
       "      <td>38472</td>\n",
       "      <td>13</td>\n",
       "      <td>Red Rock Deli Thai  Chilli&amp;Lime 150g</td>\n",
       "      <td>1</td>\n",
       "      <td>2.70</td>\n",
       "      <td>150</td>\n",
       "      <td>Red</td>\n",
       "    </tr>\n",
       "    <tr>\n",
       "      <th>29</th>\n",
       "      <td>2019-05-20</td>\n",
       "      <td>43</td>\n",
       "      <td>43110</td>\n",
       "      <td>39342</td>\n",
       "      <td>31</td>\n",
       "      <td>Infzns Crn Crnchers Tangy Gcamole 110g</td>\n",
       "      <td>1</td>\n",
       "      <td>3.80</td>\n",
       "      <td>110</td>\n",
       "      <td>Infzns</td>\n",
       "    </tr>\n",
       "    <tr>\n",
       "      <th>30</th>\n",
       "      <td>2019-05-16</td>\n",
       "      <td>43</td>\n",
       "      <td>43147</td>\n",
       "      <td>39608</td>\n",
       "      <td>99</td>\n",
       "      <td>Pringles Sthrn FriedChicken 134g</td>\n",
       "      <td>1</td>\n",
       "      <td>3.70</td>\n",
       "      <td>134</td>\n",
       "      <td>Pringles</td>\n",
       "    </tr>\n",
       "    <tr>\n",
       "      <th>31</th>\n",
       "      <td>2019-05-15</td>\n",
       "      <td>43</td>\n",
       "      <td>43227</td>\n",
       "      <td>40186</td>\n",
       "      <td>26</td>\n",
       "      <td>Pringles Sweet&amp;Spcy BBQ 134g</td>\n",
       "      <td>4</td>\n",
       "      <td>14.80</td>\n",
       "      <td>134</td>\n",
       "      <td>Pringles</td>\n",
       "    </tr>\n",
       "    <tr>\n",
       "      <th>32</th>\n",
       "      <td>2019-05-20</td>\n",
       "      <td>45</td>\n",
       "      <td>45127</td>\n",
       "      <td>41122</td>\n",
       "      <td>64</td>\n",
       "      <td>Red Rock Deli SR    Salsa &amp; Mzzrlla 150g</td>\n",
       "      <td>2</td>\n",
       "      <td>5.40</td>\n",
       "      <td>150</td>\n",
       "      <td>Red</td>\n",
       "    </tr>\n",
       "    <tr>\n",
       "      <th>33</th>\n",
       "      <td>2019-05-18</td>\n",
       "      <td>45</td>\n",
       "      <td>45220</td>\n",
       "      <td>41651</td>\n",
       "      <td>22</td>\n",
       "      <td>Thins Chips         Originl saltd 175g</td>\n",
       "      <td>1</td>\n",
       "      <td>3.30</td>\n",
       "      <td>175</td>\n",
       "      <td>Thins</td>\n",
       "    </tr>\n",
       "    <tr>\n",
       "      <th>34</th>\n",
       "      <td>2018-08-16</td>\n",
       "      <td>51</td>\n",
       "      <td>51100</td>\n",
       "      <td>46802</td>\n",
       "      <td>48</td>\n",
       "      <td>Red Rock Deli Sp    Salt &amp; Truffle 150G</td>\n",
       "      <td>1</td>\n",
       "      <td>2.70</td>\n",
       "      <td>150</td>\n",
       "      <td>Red</td>\n",
       "    </tr>\n",
       "    <tr>\n",
       "      <th>35</th>\n",
       "      <td>2018-08-19</td>\n",
       "      <td>51</td>\n",
       "      <td>51100</td>\n",
       "      <td>46803</td>\n",
       "      <td>37</td>\n",
       "      <td>Smiths Thinly       Swt Chli&amp;S/Cream175G</td>\n",
       "      <td>1</td>\n",
       "      <td>3.00</td>\n",
       "      <td>175</td>\n",
       "      <td>Smiths</td>\n",
       "    </tr>\n",
       "    <tr>\n",
       "      <th>36</th>\n",
       "      <td>2018-08-18</td>\n",
       "      <td>51</td>\n",
       "      <td>51113</td>\n",
       "      <td>46828</td>\n",
       "      <td>36</td>\n",
       "      <td>Kettle Chilli 175g</td>\n",
       "      <td>1</td>\n",
       "      <td>5.40</td>\n",
       "      <td>175</td>\n",
       "      <td>Kettle</td>\n",
       "    </tr>\n",
       "    <tr>\n",
       "      <th>37</th>\n",
       "      <td>2018-08-17</td>\n",
       "      <td>54</td>\n",
       "      <td>54226</td>\n",
       "      <td>48173</td>\n",
       "      <td>51</td>\n",
       "      <td>Doritos Mexicana    170g</td>\n",
       "      <td>1</td>\n",
       "      <td>4.40</td>\n",
       "      <td>170</td>\n",
       "      <td>Doritos</td>\n",
       "    </tr>\n",
       "    <tr>\n",
       "      <th>38</th>\n",
       "      <td>2018-08-18</td>\n",
       "      <td>54</td>\n",
       "      <td>54305</td>\n",
       "      <td>48301</td>\n",
       "      <td>44</td>\n",
       "      <td>Thins Chips Light&amp;  Tangy 175g</td>\n",
       "      <td>2</td>\n",
       "      <td>6.60</td>\n",
       "      <td>175</td>\n",
       "      <td>Thins</td>\n",
       "    </tr>\n",
       "    <tr>\n",
       "      <th>39</th>\n",
       "      <td>2018-08-18</td>\n",
       "      <td>55</td>\n",
       "      <td>55072</td>\n",
       "      <td>48878</td>\n",
       "      <td>107</td>\n",
       "      <td>Smiths Crinkle Cut  French OnionDip 150g</td>\n",
       "      <td>1</td>\n",
       "      <td>2.60</td>\n",
       "      <td>150</td>\n",
       "      <td>Smiths</td>\n",
       "    </tr>\n",
       "    <tr>\n",
       "      <th>40</th>\n",
       "      <td>2019-05-14</td>\n",
       "      <td>55</td>\n",
       "      <td>55072</td>\n",
       "      <td>48883</td>\n",
       "      <td>106</td>\n",
       "      <td>Natural ChipCo      Hony Soy Chckn175g</td>\n",
       "      <td>1</td>\n",
       "      <td>3.00</td>\n",
       "      <td>175</td>\n",
       "      <td>Natural</td>\n",
       "    </tr>\n",
       "    <tr>\n",
       "      <th>41</th>\n",
       "      <td>2019-05-20</td>\n",
       "      <td>55</td>\n",
       "      <td>55073</td>\n",
       "      <td>48887</td>\n",
       "      <td>4</td>\n",
       "      <td>Dorito Corn Chp     Supreme 380g</td>\n",
       "      <td>1</td>\n",
       "      <td>3.25</td>\n",
       "      <td>380</td>\n",
       "      <td>Dorito</td>\n",
       "    </tr>\n",
       "    <tr>\n",
       "      <th>42</th>\n",
       "      <td>2019-05-20</td>\n",
       "      <td>55</td>\n",
       "      <td>55073</td>\n",
       "      <td>48887</td>\n",
       "      <td>113</td>\n",
       "      <td>Twisties Chicken270g</td>\n",
       "      <td>1</td>\n",
       "      <td>4.60</td>\n",
       "      <td>270</td>\n",
       "      <td>Twisties</td>\n",
       "    </tr>\n",
       "    <tr>\n",
       "      <th>43</th>\n",
       "      <td>2019-05-16</td>\n",
       "      <td>55</td>\n",
       "      <td>55202</td>\n",
       "      <td>49690</td>\n",
       "      <td>45</td>\n",
       "      <td>Smiths Thinly Cut   Roast Chicken 175g</td>\n",
       "      <td>1</td>\n",
       "      <td>3.00</td>\n",
       "      <td>175</td>\n",
       "      <td>Smiths</td>\n",
       "    </tr>\n",
       "    <tr>\n",
       "      <th>44</th>\n",
       "      <td>2018-08-18</td>\n",
       "      <td>56</td>\n",
       "      <td>56013</td>\n",
       "      <td>50090</td>\n",
       "      <td>39</td>\n",
       "      <td>Smiths Crinkle Cut  Tomato Salsa 150g</td>\n",
       "      <td>1</td>\n",
       "      <td>2.60</td>\n",
       "      <td>150</td>\n",
       "      <td>Smiths</td>\n",
       "    </tr>\n",
       "    <tr>\n",
       "      <th>45</th>\n",
       "      <td>2019-05-16</td>\n",
       "      <td>58</td>\n",
       "      <td>58324</td>\n",
       "      <td>54252</td>\n",
       "      <td>102</td>\n",
       "      <td>Kettle Mozzarella   Basil &amp; Pesto 175g</td>\n",
       "      <td>1</td>\n",
       "      <td>5.40</td>\n",
       "      <td>175</td>\n",
       "      <td>Kettle</td>\n",
       "    </tr>\n",
       "    <tr>\n",
       "      <th>46</th>\n",
       "      <td>2019-05-16</td>\n",
       "      <td>59</td>\n",
       "      <td>59344</td>\n",
       "      <td>56007</td>\n",
       "      <td>31</td>\n",
       "      <td>Infzns Crn Crnchers Tangy Gcamole 110g</td>\n",
       "      <td>1</td>\n",
       "      <td>3.80</td>\n",
       "      <td>110</td>\n",
       "      <td>Infzns</td>\n",
       "    </tr>\n",
       "    <tr>\n",
       "      <th>47</th>\n",
       "      <td>2018-08-16</td>\n",
       "      <td>60</td>\n",
       "      <td>60038</td>\n",
       "      <td>56304</td>\n",
       "      <td>104</td>\n",
       "      <td>Infuzions Thai SweetChili PotatoMix 110g</td>\n",
       "      <td>1</td>\n",
       "      <td>3.80</td>\n",
       "      <td>110</td>\n",
       "      <td>Infuzions</td>\n",
       "    </tr>\n",
       "    <tr>\n",
       "      <th>48</th>\n",
       "      <td>2019-05-15</td>\n",
       "      <td>60</td>\n",
       "      <td>60162</td>\n",
       "      <td>56825</td>\n",
       "      <td>7</td>\n",
       "      <td>Smiths Crinkle      Original 330g</td>\n",
       "      <td>1</td>\n",
       "      <td>5.70</td>\n",
       "      <td>330</td>\n",
       "      <td>Smiths</td>\n",
       "    </tr>\n",
       "    <tr>\n",
       "      <th>49</th>\n",
       "      <td>2019-05-14</td>\n",
       "      <td>62</td>\n",
       "      <td>62177</td>\n",
       "      <td>58848</td>\n",
       "      <td>3</td>\n",
       "      <td>Kettle Sensations   Camembert &amp; Fig 150g</td>\n",
       "      <td>1</td>\n",
       "      <td>4.60</td>\n",
       "      <td>150</td>\n",
       "      <td>Kettle</td>\n",
       "    </tr>\n",
       "  </tbody>\n",
       "</table>\n",
       "</div>"
      ],
      "text/plain": [
       "   transaction_date  store_number  loyalty_card_number  tax_ID  \\\n",
       "0        2018-10-17             1                 1000       1   \n",
       "1        2019-05-14             1                 1307     348   \n",
       "2        2019-05-20             1                 1343     383   \n",
       "3        2018-08-17             2                 2373     974   \n",
       "4        2018-08-18             2                 2426    1038   \n",
       "5        2019-05-19             4                 4074    2982   \n",
       "6        2019-05-16             4                 4149    3333   \n",
       "7        2019-05-16             4                 4196    3539   \n",
       "8        2018-08-20             5                 5026    4525   \n",
       "9        2018-08-18             7                 7150    6900   \n",
       "10       2019-05-17             7                 7215    7176   \n",
       "11       2018-08-20             8                 8294    8221   \n",
       "12       2019-05-18             9                 9208    8634   \n",
       "13       2018-08-17            13                13213   12447   \n",
       "14       2019-05-15            19                19272   16686   \n",
       "15       2019-05-19            20                20164   17136   \n",
       "16       2018-08-18            20                20418   17413   \n",
       "17       2018-08-14            22                22411   18646   \n",
       "18       2018-08-17            22                22456   18696   \n",
       "19       2019-05-16            23                23067   19162   \n",
       "20       2019-05-19            25                25105   21815   \n",
       "21       2018-08-16            33                33081   29949   \n",
       "22       2018-08-16            36                36012   32077   \n",
       "23       2018-08-19            36                36302   33188   \n",
       "24       2018-08-15            38                38142   34181   \n",
       "25       2019-05-15            39                39144   35506   \n",
       "26       2018-08-19            39                39167   35638   \n",
       "27       2019-05-15            41                41423   38393   \n",
       "28       2018-08-15            41                41486   38472   \n",
       "29       2019-05-20            43                43110   39342   \n",
       "30       2019-05-16            43                43147   39608   \n",
       "31       2019-05-15            43                43227   40186   \n",
       "32       2019-05-20            45                45127   41122   \n",
       "33       2019-05-18            45                45220   41651   \n",
       "34       2018-08-16            51                51100   46802   \n",
       "35       2018-08-19            51                51100   46803   \n",
       "36       2018-08-18            51                51113   46828   \n",
       "37       2018-08-17            54                54226   48173   \n",
       "38       2018-08-18            54                54305   48301   \n",
       "39       2018-08-18            55                55072   48878   \n",
       "40       2019-05-14            55                55072   48883   \n",
       "41       2019-05-20            55                55073   48887   \n",
       "42       2019-05-20            55                55073   48887   \n",
       "43       2019-05-16            55                55202   49690   \n",
       "44       2018-08-18            56                56013   50090   \n",
       "45       2019-05-16            58                58324   54252   \n",
       "46       2019-05-16            59                59344   56007   \n",
       "47       2018-08-16            60                60038   56304   \n",
       "48       2019-05-15            60                60162   56825   \n",
       "49       2019-05-14            62                62177   58848   \n",
       "\n",
       "    product_number                              product_name  \\\n",
       "0                5    Natural Chip        Compny SeaSalt175g   \n",
       "1               66                  CCs Nacho Cheese    175g   \n",
       "2               61    Smiths Crinkle Cut  Chips Chicken 170g   \n",
       "3               69    Smiths Chip Thinly  S/Cream&Onion 175g   \n",
       "4              108  Kettle Tortilla ChpsHny&Jlpno Chili 150g   \n",
       "5               57  Old El Paso Salsa   Dip Tomato Mild 300g   \n",
       "6               16  Smiths Crinkle Chips Salt & Vinegar 330g   \n",
       "7               24     Grain Waves         Sweet Chilli 210g   \n",
       "8               42   Doritos Corn Chip Mexican Jalapeno 150g   \n",
       "9               52     Grain Waves Sour    Cream&Chives 210G   \n",
       "10              16  Smiths Crinkle Chips Salt & Vinegar 330g   \n",
       "11             114     Kettle Sensations   Siracha Lime 150g   \n",
       "12              15                  Twisties Cheese     270g   \n",
       "13              92          WW Crinkle Cut      Chicken 175g   \n",
       "14              44            Thins Chips Light&  Tangy 175g   \n",
       "15              54                         CCs Original 175g   \n",
       "16              94                         Burger Rings 220g   \n",
       "17              98    NCC Sour Cream &    Garden Chives 175g   \n",
       "18              93   Doritos Corn Chip Southern Chicken 150g   \n",
       "19              56                  Cheezels Cheese Box 125g   \n",
       "20               7         Smiths Crinkle      Original 330g   \n",
       "21              98    NCC Sour Cream &    Garden Chives 175g   \n",
       "22              31    Infzns Crn Crnchers Tangy Gcamole 110g   \n",
       "23              32      Kettle Sea Salt     And Vinegar 175g   \n",
       "24             108  Kettle Tortilla ChpsHny&Jlpno Chili 150g   \n",
       "25              57  Old El Paso Salsa   Dip Tomato Mild 300g   \n",
       "26             111     Smiths Chip Thinly  Cut Original 175g   \n",
       "27              46                      Kettle Original 175g   \n",
       "28              13      Red Rock Deli Thai  Chilli&Lime 150g   \n",
       "29              31    Infzns Crn Crnchers Tangy Gcamole 110g   \n",
       "30              99          Pringles Sthrn FriedChicken 134g   \n",
       "31              26              Pringles Sweet&Spcy BBQ 134g   \n",
       "32              64  Red Rock Deli SR    Salsa & Mzzrlla 150g   \n",
       "33              22    Thins Chips         Originl saltd 175g   \n",
       "34              48   Red Rock Deli Sp    Salt & Truffle 150G   \n",
       "35              37  Smiths Thinly       Swt Chli&S/Cream175G   \n",
       "36              36                        Kettle Chilli 175g   \n",
       "37              51                  Doritos Mexicana    170g   \n",
       "38              44            Thins Chips Light&  Tangy 175g   \n",
       "39             107  Smiths Crinkle Cut  French OnionDip 150g   \n",
       "40             106    Natural ChipCo      Hony Soy Chckn175g   \n",
       "41               4          Dorito Corn Chp     Supreme 380g   \n",
       "42             113                      Twisties Chicken270g   \n",
       "43              45    Smiths Thinly Cut   Roast Chicken 175g   \n",
       "44              39     Smiths Crinkle Cut  Tomato Salsa 150g   \n",
       "45             102    Kettle Mozzarella   Basil & Pesto 175g   \n",
       "46              31    Infzns Crn Crnchers Tangy Gcamole 110g   \n",
       "47             104  Infuzions Thai SweetChili PotatoMix 110g   \n",
       "48               7         Smiths Crinkle      Original 330g   \n",
       "49               3  Kettle Sensations   Camembert & Fig 150g   \n",
       "\n",
       "    product_quantity  total_sales weights_of_chips company_name  \n",
       "0                  2         6.00              175      Natural  \n",
       "1                  3         6.30              175          CCs  \n",
       "2                  2         2.90              170       Smiths  \n",
       "3                  5        15.00              175       Smiths  \n",
       "4                  3        13.80              150       Kettle  \n",
       "5                  1         5.10              300          Old  \n",
       "6                  1         5.70              330       Smiths  \n",
       "7                  1         3.60              210        Grain  \n",
       "8                  1         3.90              150      Doritos  \n",
       "9                  2         7.20              210        Grain  \n",
       "10                 1         5.70              330       Smiths  \n",
       "11                 5        23.00              150       Kettle  \n",
       "12                 2         9.20              270     Twisties  \n",
       "13                 1         1.70              175   WOOLWORTHS  \n",
       "14                 1         3.30              175        Thins  \n",
       "15                 1         2.10              175          CCs  \n",
       "16                 4         9.20              220       Burger  \n",
       "17                 1         3.00              175      NATURAL  \n",
       "18                 1         3.90              150      Doritos  \n",
       "19                 1         2.10              125     Cheezels  \n",
       "20                 1         5.70              330       Smiths  \n",
       "21                 1         3.00              175      NATURAL  \n",
       "22                 1         3.80              110       Infzns  \n",
       "23                 1         5.40              175       Kettle  \n",
       "24                 2         9.20              150       Kettle  \n",
       "25                 1         5.10              300          Old  \n",
       "26                 2         6.00              175       Smiths  \n",
       "27                 1         5.40              175       Kettle  \n",
       "28                 1         2.70              150          Red  \n",
       "29                 1         3.80              110       Infzns  \n",
       "30                 1         3.70              134     Pringles  \n",
       "31                 4        14.80              134     Pringles  \n",
       "32                 2         5.40              150          Red  \n",
       "33                 1         3.30              175        Thins  \n",
       "34                 1         2.70              150          Red  \n",
       "35                 1         3.00              175       Smiths  \n",
       "36                 1         5.40              175       Kettle  \n",
       "37                 1         4.40              170      Doritos  \n",
       "38                 2         6.60              175        Thins  \n",
       "39                 1         2.60              150       Smiths  \n",
       "40                 1         3.00              175      Natural  \n",
       "41                 1         3.25              380       Dorito  \n",
       "42                 1         4.60              270     Twisties  \n",
       "43                 1         3.00              175       Smiths  \n",
       "44                 1         2.60              150       Smiths  \n",
       "45                 1         5.40              175       Kettle  \n",
       "46                 1         3.80              110       Infzns  \n",
       "47                 1         3.80              110    Infuzions  \n",
       "48                 1         5.70              330       Smiths  \n",
       "49                 1         4.60              150       Kettle  "
      ]
     },
     "execution_count": 36,
     "metadata": {},
     "output_type": "execute_result"
    }
   ],
   "source": [
    "transact.head(50)"
   ]
  },
  {
   "cell_type": "code",
   "execution_count": 37,
   "id": "13aa55f5",
   "metadata": {},
   "outputs": [],
   "source": [
    "def remove_not_useful(string):\n",
    "    pat = re.compile('[0-9]{0,3}[gG]{1}')\n",
    "    string1 = re.sub(pat, '', string)\n",
    "    string2 = string1.replace('&', '')\n",
    "    return string2.rstrip()\n",
    "    "
   ]
  },
  {
   "cell_type": "code",
   "execution_count": 38,
   "id": "310ceaa3",
   "metadata": {},
   "outputs": [],
   "source": [
    "transact.product_name = transact.product_name.apply(remove_not_useful)"
   ]
  },
  {
   "cell_type": "code",
   "execution_count": 39,
   "id": "599a226e",
   "metadata": {},
   "outputs": [
    {
     "data": {
      "text/plain": [
       "'natural chip        compny seasalt ccs nacho cheese smiths crinkle cut  chips chicken smiths chip thinly  s/creamonion kettle tortilla chpshnyjlpno chili old el paso salsa   dip tomato mild smiths crinkle chips salt  vinear rain waves         sweet chilli doritos corn chip mexican jalapeno rain waves sour    creamchives kettle sensations   siracha lime twisties cheese ww crinkle cut      chicken thins chips liht  tany ccs oriinal burer rins ncc sour cream     arden chives doritos corn chip southern chicken cheezels cheese box smiths crinkle      oriinal infzns crn crnchers tany camole kettle sea salt     and vinear smiths chip thinly  cut oriinal kettle oriinal red rock deli thai  chillilime prinles sthrn friedchicken prinles sweetspcy bbq red rock deli sr    salsa  mzzrlla thins chips         oriinl saltd red rock deli sp    salt  truffle smiths thinly       swt chlis/cream kettle chilli doritos mexicana smiths crinkle cut  french oniondip natural chipco      hony soy chckn dorito corn chp     supreme twisties chicken smiths thinly cut   roast chicken smiths crinkle cut  tomato salsa kettle mozzarella   basil  pesto infuzions thai sweetchili potatomix kettle sensations   camembert  fi smith crinkle cut   mac n cheese kettle honey soy    chicken thins chips seasonedchicken smiths crinkle cut  salt  vinear infuzions bbq rib   prawn crackers rnwves plus btroot  chilli jam tyrrells crisps     lihtly salted kettle sweet chilli and sour cream doritos salsa       medium kettle  swt pot sea salt prinles sourcream  onion doritos corn chips  oriinal twisties cheese     burer old el paso salsa   dip chnky tom ht cobs popd swt/chlli sr/cream chips woolworths mild     salsa natural chip co     tmato hrbspce smiths crinkle cut  chips oriinal cobs popd sea salt  chips smiths crinkle cut  chips chsonion french fries potato chips old el paso salsa   dip tomato med doritos corn chips  cheese supreme prinles oriinal   crisps rrd chilli         coconut ww oriinal corn    chips thins potato chips  hot  spicy cobs popd sour crm  chives chips smiths crnkle chip  ornl bi ba doritos corn chips  nacho cheese kettle sensations   bbqmaple ww d/style chip     sea salt prinles chicken    salt crips ww oriinal stacked chips smiths chip thinly  cutsalt/viner cheezels cheese tostitos lihtly    salted thins chips salt   vinear smiths crinkle cut  chips barbecue cheetos puffs rrd sweet chilli   sour cream ww crinkle cut      oriinal tostitos splash of  lime woolworths medium   salsa kettle tortilla chpsbtrootricotta ccs tasty cheese woolworths cheese   rins tostitos smoked     chipotle prinles barbeque ww supreme cheese   corn chips prinles mystery    flavour tyrrells crisps     ched  chives snbts whlrn crisps cheddrmstrd cheetos chs  bacon balls prinles slt vinar infuzions sourcreamherbs ve strws kettle tortilla chpsfetaarlic infuzions mano     chutny papadums rrd steak          chimuchurri rrd honey soy       chicken sunbites whlern    crisps frch/onin rrd salt  vinear doritos cheese      supreme smiths crinkle cut  snasauce ww sour cream onionstacked chips rrd lime  pepper natural chipco sea  salt  viner red rock deli chiknarlic aioli rrd sr slow rst     pork belly rrd pc sea salt smith crinkle cut   bolonese doritos salsa mild'"
      ]
     },
     "execution_count": 39,
     "metadata": {},
     "output_type": "execute_result"
    }
   ],
   "source": [
    "#let's create text file for tokenizing and frequency analysis \n",
    "text = ' '.join(transact.product_name.unique()).lower()\n",
    "text"
   ]
  },
  {
   "cell_type": "code",
   "execution_count": 40,
   "id": "bdc0a62a",
   "metadata": {},
   "outputs": [],
   "source": [
    "regex = re.compile('[A-Za-z]+')\n",
    "def words_only(text, regex=regex):\n",
    "    try:\n",
    "        return \" \".join(regex.findall(text))\n",
    "    except:\n",
    "        return \"\""
   ]
  },
  {
   "cell_type": "code",
   "execution_count": 41,
   "id": "3536e4c4",
   "metadata": {},
   "outputs": [
    {
     "data": {
      "text/plain": [
       "'natural chip compny seasalt ccs nacho cheese smiths crinkle cut chips chicken smiths chip thinly s creamonion kettle tortilla chpshnyjlpno chili old el paso salsa dip tomato mild smiths crinkle chips salt vinear rain waves sweet chilli doritos corn chip mexican jalapeno rain waves sour creamchives kettle sensations siracha lime twisties cheese ww crinkle cut chicken thins chips liht tany ccs oriinal burer rins ncc sour cream arden chives doritos corn chip southern chicken cheezels cheese box smiths crinkle oriinal infzns crn crnchers tany camole kettle sea salt and vinear smiths chip thinly cut oriinal kettle oriinal red rock deli thai chillilime prinles sthrn friedchicken prinles sweetspcy bbq red rock deli sr salsa mzzrlla thins chips oriinl saltd red rock deli sp salt truffle smiths thinly swt chlis cream kettle chilli doritos mexicana smiths crinkle cut french oniondip natural chipco hony soy chckn dorito corn chp supreme twisties chicken smiths thinly cut roast chicken smiths crinkle cut tomato salsa kettle mozzarella basil pesto infuzions thai sweetchili potatomix kettle sensations camembert fi smith crinkle cut mac n cheese kettle honey soy chicken thins chips seasonedchicken smiths crinkle cut salt vinear infuzions bbq rib prawn crackers rnwves plus btroot chilli jam tyrrells crisps lihtly salted kettle sweet chilli and sour cream doritos salsa medium kettle swt pot sea salt prinles sourcream onion doritos corn chips oriinal twisties cheese burer old el paso salsa dip chnky tom ht cobs popd swt chlli sr cream chips woolworths mild salsa natural chip co tmato hrbspce smiths crinkle cut chips oriinal cobs popd sea salt chips smiths crinkle cut chips chsonion french fries potato chips old el paso salsa dip tomato med doritos corn chips cheese supreme prinles oriinal crisps rrd chilli coconut ww oriinal corn chips thins potato chips hot spicy cobs popd sour crm chives chips smiths crnkle chip ornl bi ba doritos corn chips nacho cheese kettle sensations bbqmaple ww d style chip sea salt prinles chicken salt crips ww oriinal stacked chips smiths chip thinly cutsalt viner cheezels cheese tostitos lihtly salted thins chips salt vinear smiths crinkle cut chips barbecue cheetos puffs rrd sweet chilli sour cream ww crinkle cut oriinal tostitos splash of lime woolworths medium salsa kettle tortilla chpsbtrootricotta ccs tasty cheese woolworths cheese rins tostitos smoked chipotle prinles barbeque ww supreme cheese corn chips prinles mystery flavour tyrrells crisps ched chives snbts whlrn crisps cheddrmstrd cheetos chs bacon balls prinles slt vinar infuzions sourcreamherbs ve strws kettle tortilla chpsfetaarlic infuzions mano chutny papadums rrd steak chimuchurri rrd honey soy chicken sunbites whlern crisps frch onin rrd salt vinear doritos cheese supreme smiths crinkle cut snasauce ww sour cream onionstacked chips rrd lime pepper natural chipco sea salt viner red rock deli chiknarlic aioli rrd sr slow rst pork belly rrd pc sea salt smith crinkle cut bolonese doritos salsa mild'"
      ]
     },
     "execution_count": 41,
     "metadata": {},
     "output_type": "execute_result"
    }
   ],
   "source": [
    "tokenized_text = words_only(text)\n",
    "tokenized_text"
   ]
  },
  {
   "cell_type": "code",
   "execution_count": 42,
   "id": "94cf752f",
   "metadata": {},
   "outputs": [
    {
     "name": "stdout",
     "output_type": "stream",
     "text": [
      "('chips', 21)\n",
      "('smiths', 16)\n",
      "('crinkle', 14)\n",
      "('cut', 14)\n",
      "('kettle', 13)\n",
      "('cheese', 12)\n",
      "('salt', 12)\n",
      "('oriinal', 10)\n",
      "('chip', 9)\n",
      "('salsa', 9)\n",
      "('doritos', 9)\n",
      "('chicken', 8)\n",
      "('corn', 8)\n",
      "('prinles', 8)\n",
      "('rrd', 8)\n",
      "('ww', 7)\n",
      "('chilli', 6)\n",
      "('sour', 6)\n",
      "('cream', 6)\n",
      "('sea', 6)\n",
      "('thinly', 5)\n",
      "('vinear', 5)\n",
      "('thins', 5)\n",
      "('crisps', 5)\n",
      "('natural', 4)\n",
      "('red', 4)\n",
      "('rock', 4)\n",
      "('deli', 4)\n",
      "('supreme', 4)\n",
      "('infuzions', 4)\n"
     ]
    }
   ],
   "source": [
    "from nltk import FreqDist\n",
    "fd = FreqDist(tokenized_text.split())\n",
    "for i in fd.most_common(30):\n",
    "    print(i)"
   ]
  },
  {
   "cell_type": "markdown",
   "id": "c776664e",
   "metadata": {},
   "source": [
    "## There are salsa products in the dataset but we are only interested in the chips category, so let's remove these."
   ]
  },
  {
   "cell_type": "code",
   "execution_count": 43,
   "id": "62ead94f",
   "metadata": {},
   "outputs": [],
   "source": [
    "def clear_salsa(string):\n",
    "    if ('Salsa' or 'salsa') in string:\n",
    "        return ''\n",
    "    else:\n",
    "        return string"
   ]
  },
  {
   "cell_type": "code",
   "execution_count": 44,
   "id": "361c52d9",
   "metadata": {},
   "outputs": [],
   "source": [
    "transact.product_name = transact.product_name.apply(clear_salsa)"
   ]
  },
  {
   "cell_type": "code",
   "execution_count": 45,
   "id": "91ef6a42",
   "metadata": {},
   "outputs": [],
   "source": [
    "index_salsa = transact.query('product_name==\"\"').index"
   ]
  },
  {
   "cell_type": "code",
   "execution_count": 46,
   "id": "bce93796",
   "metadata": {},
   "outputs": [],
   "source": [
    "transact_chips = transact.drop(index=index_salsa)"
   ]
  },
  {
   "cell_type": "code",
   "execution_count": 47,
   "id": "15102410",
   "metadata": {},
   "outputs": [
    {
     "data": {
      "text/html": [
       "<div>\n",
       "<style scoped>\n",
       "    .dataframe tbody tr th:only-of-type {\n",
       "        vertical-align: middle;\n",
       "    }\n",
       "\n",
       "    .dataframe tbody tr th {\n",
       "        vertical-align: top;\n",
       "    }\n",
       "\n",
       "    .dataframe thead th {\n",
       "        text-align: right;\n",
       "    }\n",
       "</style>\n",
       "<table border=\"1\" class=\"dataframe\">\n",
       "  <thead>\n",
       "    <tr style=\"text-align: right;\">\n",
       "      <th></th>\n",
       "      <th>store_number</th>\n",
       "      <th>loyalty_card_number</th>\n",
       "      <th>tax_ID</th>\n",
       "      <th>product_number</th>\n",
       "      <th>product_quantity</th>\n",
       "      <th>total_sales</th>\n",
       "    </tr>\n",
       "  </thead>\n",
       "  <tbody>\n",
       "    <tr>\n",
       "      <th>count</th>\n",
       "      <td>246740.000000</td>\n",
       "      <td>2.467400e+05</td>\n",
       "      <td>2.467400e+05</td>\n",
       "      <td>246740.000000</td>\n",
       "      <td>246740.000000</td>\n",
       "      <td>246740.000000</td>\n",
       "    </tr>\n",
       "    <tr>\n",
       "      <th>mean</th>\n",
       "      <td>135.050361</td>\n",
       "      <td>1.355303e+05</td>\n",
       "      <td>1.351304e+05</td>\n",
       "      <td>56.352213</td>\n",
       "      <td>1.906456</td>\n",
       "      <td>7.316113</td>\n",
       "    </tr>\n",
       "    <tr>\n",
       "      <th>std</th>\n",
       "      <td>76.786971</td>\n",
       "      <td>8.071520e+04</td>\n",
       "      <td>7.814760e+04</td>\n",
       "      <td>33.695235</td>\n",
       "      <td>0.342499</td>\n",
       "      <td>2.474897</td>\n",
       "    </tr>\n",
       "    <tr>\n",
       "      <th>min</th>\n",
       "      <td>1.000000</td>\n",
       "      <td>1.000000e+03</td>\n",
       "      <td>1.000000e+00</td>\n",
       "      <td>1.000000</td>\n",
       "      <td>1.000000</td>\n",
       "      <td>1.700000</td>\n",
       "    </tr>\n",
       "    <tr>\n",
       "      <th>25%</th>\n",
       "      <td>70.000000</td>\n",
       "      <td>7.001500e+04</td>\n",
       "      <td>6.756875e+04</td>\n",
       "      <td>26.000000</td>\n",
       "      <td>2.000000</td>\n",
       "      <td>5.800000</td>\n",
       "    </tr>\n",
       "    <tr>\n",
       "      <th>50%</th>\n",
       "      <td>130.000000</td>\n",
       "      <td>1.303670e+05</td>\n",
       "      <td>1.351815e+05</td>\n",
       "      <td>53.000000</td>\n",
       "      <td>2.000000</td>\n",
       "      <td>7.400000</td>\n",
       "    </tr>\n",
       "    <tr>\n",
       "      <th>75%</th>\n",
       "      <td>203.000000</td>\n",
       "      <td>2.030832e+05</td>\n",
       "      <td>2.026522e+05</td>\n",
       "      <td>87.000000</td>\n",
       "      <td>2.000000</td>\n",
       "      <td>8.800000</td>\n",
       "    </tr>\n",
       "    <tr>\n",
       "      <th>max</th>\n",
       "      <td>272.000000</td>\n",
       "      <td>2.373711e+06</td>\n",
       "      <td>2.415841e+06</td>\n",
       "      <td>114.000000</td>\n",
       "      <td>5.000000</td>\n",
       "      <td>29.500000</td>\n",
       "    </tr>\n",
       "  </tbody>\n",
       "</table>\n",
       "</div>"
      ],
      "text/plain": [
       "        store_number  loyalty_card_number        tax_ID  product_number  \\\n",
       "count  246740.000000         2.467400e+05  2.467400e+05   246740.000000   \n",
       "mean      135.050361         1.355303e+05  1.351304e+05       56.352213   \n",
       "std        76.786971         8.071520e+04  7.814760e+04       33.695235   \n",
       "min         1.000000         1.000000e+03  1.000000e+00        1.000000   \n",
       "25%        70.000000         7.001500e+04  6.756875e+04       26.000000   \n",
       "50%       130.000000         1.303670e+05  1.351815e+05       53.000000   \n",
       "75%       203.000000         2.030832e+05  2.026522e+05       87.000000   \n",
       "max       272.000000         2.373711e+06  2.415841e+06      114.000000   \n",
       "\n",
       "       product_quantity    total_sales  \n",
       "count     246740.000000  246740.000000  \n",
       "mean           1.906456       7.316113  \n",
       "std            0.342499       2.474897  \n",
       "min            1.000000       1.700000  \n",
       "25%            2.000000       5.800000  \n",
       "50%            2.000000       7.400000  \n",
       "75%            2.000000       8.800000  \n",
       "max            5.000000      29.500000  "
      ]
     },
     "execution_count": 47,
     "metadata": {},
     "output_type": "execute_result"
    }
   ],
   "source": [
    "transact_chips.describe()"
   ]
  },
  {
   "cell_type": "code",
   "execution_count": 48,
   "id": "ba4f3d93",
   "metadata": {},
   "outputs": [
    {
     "name": "stdout",
     "output_type": "stream",
     "text": [
      "<class 'pandas.core.frame.DataFrame'>\n",
      "Int64Index: 246740 entries, 0 to 264835\n",
      "Data columns (total 10 columns):\n",
      " #   Column               Non-Null Count   Dtype         \n",
      "---  ------               --------------   -----         \n",
      " 0   transaction_date     246740 non-null  datetime64[ns]\n",
      " 1   store_number         246740 non-null  int64         \n",
      " 2   loyalty_card_number  246740 non-null  int64         \n",
      " 3   tax_ID               246740 non-null  int64         \n",
      " 4   product_number       246740 non-null  int64         \n",
      " 5   product_name         246740 non-null  object        \n",
      " 6   product_quantity     246740 non-null  int64         \n",
      " 7   total_sales          246740 non-null  float64       \n",
      " 8   weights_of_chips     246740 non-null  object        \n",
      " 9   company_name         246740 non-null  object        \n",
      "dtypes: datetime64[ns](1), float64(1), int64(5), object(3)\n",
      "memory usage: 20.7+ MB\n"
     ]
    }
   ],
   "source": [
    "transact_chips.info()"
   ]
  },
  {
   "cell_type": "code",
   "execution_count": 49,
   "id": "87c0d407",
   "metadata": {},
   "outputs": [],
   "source": [
    "from IPython.display import FileLink"
   ]
  },
  {
   "cell_type": "code",
   "execution_count": 50,
   "id": "2ebe5597",
   "metadata": {},
   "outputs": [],
   "source": [
    "common_df = transact_chips.merge(cust, on='loyalty_card_number', how='outer')"
   ]
  },
  {
   "cell_type": "code",
   "execution_count": 51,
   "id": "cd85c975",
   "metadata": {},
   "outputs": [
    {
     "name": "stdout",
     "output_type": "stream",
     "text": [
      "<class 'pandas.core.frame.DataFrame'>\n",
      "Int64Index: 248090 entries, 0 to 248089\n",
      "Data columns (total 12 columns):\n",
      " #   Column               Non-Null Count   Dtype         \n",
      "---  ------               --------------   -----         \n",
      " 0   transaction_date     246740 non-null  datetime64[ns]\n",
      " 1   store_number         246740 non-null  float64       \n",
      " 2   loyalty_card_number  248090 non-null  int64         \n",
      " 3   tax_ID               246740 non-null  float64       \n",
      " 4   product_number       246740 non-null  float64       \n",
      " 5   product_name         246740 non-null  object        \n",
      " 6   product_quantity     246740 non-null  float64       \n",
      " 7   total_sales          246740 non-null  float64       \n",
      " 8   weights_of_chips     246740 non-null  object        \n",
      " 9   company_name         246740 non-null  object        \n",
      " 10  lifestage            248090 non-null  object        \n",
      " 11  premium_customer     248090 non-null  object        \n",
      "dtypes: datetime64[ns](1), float64(5), int64(1), object(5)\n",
      "memory usage: 24.6+ MB\n"
     ]
    }
   ],
   "source": [
    "common_df.info()"
   ]
  },
  {
   "cell_type": "markdown",
   "id": "52ca87fb",
   "metadata": {},
   "source": [
    "## After merging two tables together we see, that there is one loyalty_card_number that does not correspond with transactions data, we will remove it. As this is just one sample, we may apply dropna to whole dataset. "
   ]
  },
  {
   "cell_type": "code",
   "execution_count": 52,
   "id": "ba11e15f",
   "metadata": {},
   "outputs": [],
   "source": [
    "cons_df = common_df.dropna()"
   ]
  },
  {
   "cell_type": "code",
   "execution_count": 53,
   "id": "ea212a79",
   "metadata": {},
   "outputs": [
    {
     "data": {
      "text/html": [
       "<div>\n",
       "<style scoped>\n",
       "    .dataframe tbody tr th:only-of-type {\n",
       "        vertical-align: middle;\n",
       "    }\n",
       "\n",
       "    .dataframe tbody tr th {\n",
       "        vertical-align: top;\n",
       "    }\n",
       "\n",
       "    .dataframe thead th {\n",
       "        text-align: right;\n",
       "    }\n",
       "</style>\n",
       "<table border=\"1\" class=\"dataframe\">\n",
       "  <thead>\n",
       "    <tr style=\"text-align: right;\">\n",
       "      <th></th>\n",
       "      <th>transaction_date</th>\n",
       "      <th>store_number</th>\n",
       "      <th>loyalty_card_number</th>\n",
       "      <th>tax_ID</th>\n",
       "      <th>product_number</th>\n",
       "      <th>product_name</th>\n",
       "      <th>product_quantity</th>\n",
       "      <th>total_sales</th>\n",
       "      <th>weights_of_chips</th>\n",
       "      <th>company_name</th>\n",
       "      <th>lifestage</th>\n",
       "      <th>premium_customer</th>\n",
       "    </tr>\n",
       "  </thead>\n",
       "  <tbody>\n",
       "    <tr>\n",
       "      <th>0</th>\n",
       "      <td>2018-10-17</td>\n",
       "      <td>1.0</td>\n",
       "      <td>1000</td>\n",
       "      <td>1.0</td>\n",
       "      <td>5.0</td>\n",
       "      <td>Natural Chip        Compny SeaSalt</td>\n",
       "      <td>2.0</td>\n",
       "      <td>6.0</td>\n",
       "      <td>175</td>\n",
       "      <td>Natural</td>\n",
       "      <td>YOUNG SINGLES/COUPLES</td>\n",
       "      <td>Premium</td>\n",
       "    </tr>\n",
       "    <tr>\n",
       "      <th>1</th>\n",
       "      <td>2019-05-14</td>\n",
       "      <td>1.0</td>\n",
       "      <td>1307</td>\n",
       "      <td>348.0</td>\n",
       "      <td>66.0</td>\n",
       "      <td>CCs Nacho Cheese</td>\n",
       "      <td>3.0</td>\n",
       "      <td>6.3</td>\n",
       "      <td>175</td>\n",
       "      <td>CCs</td>\n",
       "      <td>MIDAGE SINGLES/COUPLES</td>\n",
       "      <td>Budget</td>\n",
       "    </tr>\n",
       "    <tr>\n",
       "      <th>2</th>\n",
       "      <td>2018-11-10</td>\n",
       "      <td>1.0</td>\n",
       "      <td>1307</td>\n",
       "      <td>346.0</td>\n",
       "      <td>96.0</td>\n",
       "      <td>WW Oriinal Stacked Chips</td>\n",
       "      <td>2.0</td>\n",
       "      <td>3.8</td>\n",
       "      <td>160</td>\n",
       "      <td>WOOLWORTHS</td>\n",
       "      <td>MIDAGE SINGLES/COUPLES</td>\n",
       "      <td>Budget</td>\n",
       "    </tr>\n",
       "    <tr>\n",
       "      <th>3</th>\n",
       "      <td>2019-03-09</td>\n",
       "      <td>1.0</td>\n",
       "      <td>1307</td>\n",
       "      <td>347.0</td>\n",
       "      <td>54.0</td>\n",
       "      <td>CCs Oriinal</td>\n",
       "      <td>1.0</td>\n",
       "      <td>2.1</td>\n",
       "      <td>175</td>\n",
       "      <td>CCs</td>\n",
       "      <td>MIDAGE SINGLES/COUPLES</td>\n",
       "      <td>Budget</td>\n",
       "    </tr>\n",
       "    <tr>\n",
       "      <th>4</th>\n",
       "      <td>2019-05-20</td>\n",
       "      <td>1.0</td>\n",
       "      <td>1343</td>\n",
       "      <td>383.0</td>\n",
       "      <td>61.0</td>\n",
       "      <td>Smiths Crinkle Cut  Chips Chicken</td>\n",
       "      <td>2.0</td>\n",
       "      <td>2.9</td>\n",
       "      <td>170</td>\n",
       "      <td>Smiths</td>\n",
       "      <td>MIDAGE SINGLES/COUPLES</td>\n",
       "      <td>Budget</td>\n",
       "    </tr>\n",
       "    <tr>\n",
       "      <th>...</th>\n",
       "      <td>...</td>\n",
       "      <td>...</td>\n",
       "      <td>...</td>\n",
       "      <td>...</td>\n",
       "      <td>...</td>\n",
       "      <td>...</td>\n",
       "      <td>...</td>\n",
       "      <td>...</td>\n",
       "      <td>...</td>\n",
       "      <td>...</td>\n",
       "      <td>...</td>\n",
       "      <td>...</td>\n",
       "    </tr>\n",
       "    <tr>\n",
       "      <th>246735</th>\n",
       "      <td>2019-03-09</td>\n",
       "      <td>272.0</td>\n",
       "      <td>272319</td>\n",
       "      <td>270088.0</td>\n",
       "      <td>89.0</td>\n",
       "      <td>Kettle Sweet Chilli And Sour Cream</td>\n",
       "      <td>2.0</td>\n",
       "      <td>10.8</td>\n",
       "      <td>175</td>\n",
       "      <td>Kettle</td>\n",
       "      <td>YOUNG SINGLES/COUPLES</td>\n",
       "      <td>Premium</td>\n",
       "    </tr>\n",
       "    <tr>\n",
       "      <th>246736</th>\n",
       "      <td>2018-08-13</td>\n",
       "      <td>272.0</td>\n",
       "      <td>272358</td>\n",
       "      <td>270154.0</td>\n",
       "      <td>74.0</td>\n",
       "      <td>Tostitos Splash Of  Lime</td>\n",
       "      <td>1.0</td>\n",
       "      <td>4.4</td>\n",
       "      <td>175</td>\n",
       "      <td>Tostitos</td>\n",
       "      <td>YOUNG SINGLES/COUPLES</td>\n",
       "      <td>Premium</td>\n",
       "    </tr>\n",
       "    <tr>\n",
       "      <th>246737</th>\n",
       "      <td>2018-11-06</td>\n",
       "      <td>272.0</td>\n",
       "      <td>272379</td>\n",
       "      <td>270187.0</td>\n",
       "      <td>51.0</td>\n",
       "      <td>Doritos Mexicana</td>\n",
       "      <td>2.0</td>\n",
       "      <td>8.8</td>\n",
       "      <td>170</td>\n",
       "      <td>Doritos</td>\n",
       "      <td>YOUNG SINGLES/COUPLES</td>\n",
       "      <td>Premium</td>\n",
       "    </tr>\n",
       "    <tr>\n",
       "      <th>246738</th>\n",
       "      <td>2018-12-27</td>\n",
       "      <td>272.0</td>\n",
       "      <td>272379</td>\n",
       "      <td>270188.0</td>\n",
       "      <td>42.0</td>\n",
       "      <td>Doritos Corn Chip Mexican Jalapeno</td>\n",
       "      <td>2.0</td>\n",
       "      <td>7.8</td>\n",
       "      <td>150</td>\n",
       "      <td>Doritos</td>\n",
       "      <td>YOUNG SINGLES/COUPLES</td>\n",
       "      <td>Premium</td>\n",
       "    </tr>\n",
       "    <tr>\n",
       "      <th>246739</th>\n",
       "      <td>2018-09-22</td>\n",
       "      <td>272.0</td>\n",
       "      <td>272380</td>\n",
       "      <td>270189.0</td>\n",
       "      <td>74.0</td>\n",
       "      <td>Tostitos Splash Of  Lime</td>\n",
       "      <td>2.0</td>\n",
       "      <td>8.8</td>\n",
       "      <td>175</td>\n",
       "      <td>Tostitos</td>\n",
       "      <td>YOUNG SINGLES/COUPLES</td>\n",
       "      <td>Premium</td>\n",
       "    </tr>\n",
       "  </tbody>\n",
       "</table>\n",
       "<p>246740 rows × 12 columns</p>\n",
       "</div>"
      ],
      "text/plain": [
       "       transaction_date  store_number  loyalty_card_number    tax_ID  \\\n",
       "0            2018-10-17           1.0                 1000       1.0   \n",
       "1            2019-05-14           1.0                 1307     348.0   \n",
       "2            2018-11-10           1.0                 1307     346.0   \n",
       "3            2019-03-09           1.0                 1307     347.0   \n",
       "4            2019-05-20           1.0                 1343     383.0   \n",
       "...                 ...           ...                  ...       ...   \n",
       "246735       2019-03-09         272.0               272319  270088.0   \n",
       "246736       2018-08-13         272.0               272358  270154.0   \n",
       "246737       2018-11-06         272.0               272379  270187.0   \n",
       "246738       2018-12-27         272.0               272379  270188.0   \n",
       "246739       2018-09-22         272.0               272380  270189.0   \n",
       "\n",
       "        product_number                        product_name  product_quantity  \\\n",
       "0                  5.0  Natural Chip        Compny SeaSalt               2.0   \n",
       "1                 66.0                    CCs Nacho Cheese               3.0   \n",
       "2                 96.0            WW Oriinal Stacked Chips               2.0   \n",
       "3                 54.0                         CCs Oriinal               1.0   \n",
       "4                 61.0   Smiths Crinkle Cut  Chips Chicken               2.0   \n",
       "...                ...                                 ...               ...   \n",
       "246735            89.0  Kettle Sweet Chilli And Sour Cream               2.0   \n",
       "246736            74.0            Tostitos Splash Of  Lime               1.0   \n",
       "246737            51.0                    Doritos Mexicana               2.0   \n",
       "246738            42.0  Doritos Corn Chip Mexican Jalapeno               2.0   \n",
       "246739            74.0            Tostitos Splash Of  Lime               2.0   \n",
       "\n",
       "        total_sales weights_of_chips company_name               lifestage  \\\n",
       "0               6.0              175      Natural   YOUNG SINGLES/COUPLES   \n",
       "1               6.3              175          CCs  MIDAGE SINGLES/COUPLES   \n",
       "2               3.8              160   WOOLWORTHS  MIDAGE SINGLES/COUPLES   \n",
       "3               2.1              175          CCs  MIDAGE SINGLES/COUPLES   \n",
       "4               2.9              170       Smiths  MIDAGE SINGLES/COUPLES   \n",
       "...             ...              ...          ...                     ...   \n",
       "246735         10.8              175       Kettle   YOUNG SINGLES/COUPLES   \n",
       "246736          4.4              175     Tostitos   YOUNG SINGLES/COUPLES   \n",
       "246737          8.8              170      Doritos   YOUNG SINGLES/COUPLES   \n",
       "246738          7.8              150      Doritos   YOUNG SINGLES/COUPLES   \n",
       "246739          8.8              175     Tostitos   YOUNG SINGLES/COUPLES   \n",
       "\n",
       "       premium_customer  \n",
       "0               Premium  \n",
       "1                Budget  \n",
       "2                Budget  \n",
       "3                Budget  \n",
       "4                Budget  \n",
       "...                 ...  \n",
       "246735          Premium  \n",
       "246736          Premium  \n",
       "246737          Premium  \n",
       "246738          Premium  \n",
       "246739          Premium  \n",
       "\n",
       "[246740 rows x 12 columns]"
      ]
     },
     "execution_count": 53,
     "metadata": {},
     "output_type": "execute_result"
    }
   ],
   "source": [
    "cons_df"
   ]
  },
  {
   "cell_type": "code",
   "execution_count": 54,
   "id": "1437a189",
   "metadata": {},
   "outputs": [
    {
     "name": "stderr",
     "output_type": "stream",
     "text": [
      "/tmp/ipykernel_6325/3752925889.py:1: SettingWithCopyWarning: \n",
      "A value is trying to be set on a copy of a slice from a DataFrame.\n",
      "Try using .loc[row_indexer,col_indexer] = value instead\n",
      "\n",
      "See the caveats in the documentation: https://pandas.pydata.org/pandas-docs/stable/user_guide/indexing.html#returning-a-view-versus-a-copy\n",
      "  cons_df['day_of_week'] = cons_df.transaction_date.dt.day_name()\n"
     ]
    }
   ],
   "source": [
    "cons_df['day_of_week'] = cons_df.transaction_date.dt.day_name()"
   ]
  },
  {
   "cell_type": "markdown",
   "id": "282a0a10",
   "metadata": {},
   "source": [
    "## Now, let's look at the number of transaction lines over time to see if there are any obvious data issues such as missing data."
   ]
  },
  {
   "cell_type": "markdown",
   "id": "9ba02ab0",
   "metadata": {},
   "source": [
    "There's only 364 rows, meaning only 364 dates which indicates a missing date. Let's\n",
    "create a sequence of dates from 1 Jul 2018 to 30 Jun 2019 and use this to create a\n",
    "chart of number of transactions over time to find the missing date."
   ]
  },
  {
   "cell_type": "code",
   "execution_count": 55,
   "id": "b44902df",
   "metadata": {},
   "outputs": [
    {
     "data": {
      "text/plain": [
       "DatetimeIndex(['2018-07-01', '2018-07-02', '2018-07-03', '2018-07-04',\n",
       "               '2018-07-05', '2018-07-06', '2018-07-07', '2018-07-08',\n",
       "               '2018-07-09', '2018-07-10',\n",
       "               ...\n",
       "               '2019-06-21', '2019-06-22', '2019-06-23', '2019-06-24',\n",
       "               '2019-06-25', '2019-06-26', '2019-06-27', '2019-06-28',\n",
       "               '2019-06-29', '2019-06-30'],\n",
       "              dtype='datetime64[ns]', length=365, freq='D')"
      ]
     },
     "execution_count": 55,
     "metadata": {},
     "output_type": "execute_result"
    }
   ],
   "source": [
    "dates_range = pd.date_range(start='1 Jul 2018', end='30 Jun 2019')\n",
    "dates_range"
   ]
  },
  {
   "cell_type": "code",
   "execution_count": 56,
   "id": "b82f9edc",
   "metadata": {},
   "outputs": [
    {
     "data": {
      "text/html": [
       "<div>\n",
       "<style scoped>\n",
       "    .dataframe tbody tr th:only-of-type {\n",
       "        vertical-align: middle;\n",
       "    }\n",
       "\n",
       "    .dataframe tbody tr th {\n",
       "        vertical-align: top;\n",
       "    }\n",
       "\n",
       "    .dataframe thead th {\n",
       "        text-align: right;\n",
       "    }\n",
       "</style>\n",
       "<table border=\"1\" class=\"dataframe\">\n",
       "  <thead>\n",
       "    <tr style=\"text-align: right;\">\n",
       "      <th></th>\n",
       "      <th>all_dates</th>\n",
       "    </tr>\n",
       "  </thead>\n",
       "  <tbody>\n",
       "    <tr>\n",
       "      <th>0</th>\n",
       "      <td>2018-07-01</td>\n",
       "    </tr>\n",
       "    <tr>\n",
       "      <th>1</th>\n",
       "      <td>2018-07-02</td>\n",
       "    </tr>\n",
       "    <tr>\n",
       "      <th>2</th>\n",
       "      <td>2018-07-03</td>\n",
       "    </tr>\n",
       "    <tr>\n",
       "      <th>3</th>\n",
       "      <td>2018-07-04</td>\n",
       "    </tr>\n",
       "    <tr>\n",
       "      <th>4</th>\n",
       "      <td>2018-07-05</td>\n",
       "    </tr>\n",
       "    <tr>\n",
       "      <th>...</th>\n",
       "      <td>...</td>\n",
       "    </tr>\n",
       "    <tr>\n",
       "      <th>360</th>\n",
       "      <td>2019-06-26</td>\n",
       "    </tr>\n",
       "    <tr>\n",
       "      <th>361</th>\n",
       "      <td>2019-06-27</td>\n",
       "    </tr>\n",
       "    <tr>\n",
       "      <th>362</th>\n",
       "      <td>2019-06-28</td>\n",
       "    </tr>\n",
       "    <tr>\n",
       "      <th>363</th>\n",
       "      <td>2019-06-29</td>\n",
       "    </tr>\n",
       "    <tr>\n",
       "      <th>364</th>\n",
       "      <td>2019-06-30</td>\n",
       "    </tr>\n",
       "  </tbody>\n",
       "</table>\n",
       "<p>365 rows × 1 columns</p>\n",
       "</div>"
      ],
      "text/plain": [
       "     all_dates\n",
       "0   2018-07-01\n",
       "1   2018-07-02\n",
       "2   2018-07-03\n",
       "3   2018-07-04\n",
       "4   2018-07-05\n",
       "..         ...\n",
       "360 2019-06-26\n",
       "361 2019-06-27\n",
       "362 2019-06-28\n",
       "363 2019-06-29\n",
       "364 2019-06-30\n",
       "\n",
       "[365 rows x 1 columns]"
      ]
     },
     "execution_count": 56,
     "metadata": {},
     "output_type": "execute_result"
    }
   ],
   "source": [
    "all_dates = pd.DataFrame(data=dates_range, columns=['all_dates'])\n",
    "all_dates"
   ]
  },
  {
   "cell_type": "code",
   "execution_count": 57,
   "id": "f254bdb9",
   "metadata": {},
   "outputs": [],
   "source": [
    "with_dates = pd.concat([cons_df, all_dates], axis=1)"
   ]
  },
  {
   "cell_type": "code",
   "execution_count": 58,
   "id": "3814a0a9",
   "metadata": {},
   "outputs": [
    {
     "name": "stdout",
     "output_type": "stream",
     "text": [
      "<class 'pandas.core.frame.DataFrame'>\n",
      "Int64Index: 246740 entries, 0 to 246739\n",
      "Data columns (total 14 columns):\n",
      " #   Column               Non-Null Count   Dtype         \n",
      "---  ------               --------------   -----         \n",
      " 0   transaction_date     246740 non-null  datetime64[ns]\n",
      " 1   store_number         246740 non-null  float64       \n",
      " 2   loyalty_card_number  246740 non-null  int64         \n",
      " 3   tax_ID               246740 non-null  float64       \n",
      " 4   product_number       246740 non-null  float64       \n",
      " 5   product_name         246740 non-null  object        \n",
      " 6   product_quantity     246740 non-null  float64       \n",
      " 7   total_sales          246740 non-null  float64       \n",
      " 8   weights_of_chips     246740 non-null  object        \n",
      " 9   company_name         246740 non-null  object        \n",
      " 10  lifestage            246740 non-null  object        \n",
      " 11  premium_customer     246740 non-null  object        \n",
      " 12  day_of_week          246740 non-null  object        \n",
      " 13  all_dates            365 non-null     datetime64[ns]\n",
      "dtypes: datetime64[ns](2), float64(5), int64(1), object(6)\n",
      "memory usage: 28.2+ MB\n"
     ]
    }
   ],
   "source": [
    "with_dates.info()"
   ]
  },
  {
   "cell_type": "code",
   "execution_count": 59,
   "id": "decae13d",
   "metadata": {},
   "outputs": [],
   "source": [
    "with_dates.all_dates = with_dates.all_dates.fillna(with_dates.transaction_date)"
   ]
  },
  {
   "cell_type": "code",
   "execution_count": 60,
   "id": "62692306",
   "metadata": {},
   "outputs": [
    {
     "data": {
      "text/html": [
       "<div>\n",
       "<style scoped>\n",
       "    .dataframe tbody tr th:only-of-type {\n",
       "        vertical-align: middle;\n",
       "    }\n",
       "\n",
       "    .dataframe tbody tr th {\n",
       "        vertical-align: top;\n",
       "    }\n",
       "\n",
       "    .dataframe thead th {\n",
       "        text-align: right;\n",
       "    }\n",
       "</style>\n",
       "<table border=\"1\" class=\"dataframe\">\n",
       "  <thead>\n",
       "    <tr style=\"text-align: right;\">\n",
       "      <th></th>\n",
       "      <th>all_dates</th>\n",
       "      <th>total_sales</th>\n",
       "    </tr>\n",
       "  </thead>\n",
       "  <tbody>\n",
       "    <tr>\n",
       "      <th>0</th>\n",
       "      <td>2018-07-01</td>\n",
       "      <td>4905.3</td>\n",
       "    </tr>\n",
       "    <tr>\n",
       "      <th>1</th>\n",
       "      <td>2018-07-02</td>\n",
       "      <td>4883.3</td>\n",
       "    </tr>\n",
       "    <tr>\n",
       "      <th>2</th>\n",
       "      <td>2018-07-03</td>\n",
       "      <td>4958.5</td>\n",
       "    </tr>\n",
       "    <tr>\n",
       "      <th>3</th>\n",
       "      <td>2018-07-04</td>\n",
       "      <td>4970.2</td>\n",
       "    </tr>\n",
       "    <tr>\n",
       "      <th>4</th>\n",
       "      <td>2018-07-05</td>\n",
       "      <td>4668.7</td>\n",
       "    </tr>\n",
       "    <tr>\n",
       "      <th>...</th>\n",
       "      <td>...</td>\n",
       "      <td>...</td>\n",
       "    </tr>\n",
       "    <tr>\n",
       "      <th>360</th>\n",
       "      <td>2019-06-26</td>\n",
       "      <td>4840.5</td>\n",
       "    </tr>\n",
       "    <tr>\n",
       "      <th>361</th>\n",
       "      <td>2019-06-27</td>\n",
       "      <td>4929.5</td>\n",
       "    </tr>\n",
       "    <tr>\n",
       "      <th>362</th>\n",
       "      <td>2019-06-28</td>\n",
       "      <td>4872.8</td>\n",
       "    </tr>\n",
       "    <tr>\n",
       "      <th>363</th>\n",
       "      <td>2019-06-29</td>\n",
       "      <td>5163.9</td>\n",
       "    </tr>\n",
       "    <tr>\n",
       "      <th>364</th>\n",
       "      <td>2019-06-30</td>\n",
       "      <td>5099.0</td>\n",
       "    </tr>\n",
       "  </tbody>\n",
       "</table>\n",
       "<p>365 rows × 2 columns</p>\n",
       "</div>"
      ],
      "text/plain": [
       "     all_dates  total_sales\n",
       "0   2018-07-01       4905.3\n",
       "1   2018-07-02       4883.3\n",
       "2   2018-07-03       4958.5\n",
       "3   2018-07-04       4970.2\n",
       "4   2018-07-05       4668.7\n",
       "..         ...          ...\n",
       "360 2019-06-26       4840.5\n",
       "361 2019-06-27       4929.5\n",
       "362 2019-06-28       4872.8\n",
       "363 2019-06-29       5163.9\n",
       "364 2019-06-30       5099.0\n",
       "\n",
       "[365 rows x 2 columns]"
      ]
     },
     "execution_count": 60,
     "metadata": {},
     "output_type": "execute_result"
    }
   ],
   "source": [
    "sales_per_day = with_dates.groupby('all_dates', as_index=False).agg({'total_sales': 'sum'})\n",
    "sales_per_day"
   ]
  },
  {
   "cell_type": "markdown",
   "id": "6d893e69",
   "metadata": {},
   "source": [
    "## Plot transactions over time"
   ]
  },
  {
   "cell_type": "code",
   "execution_count": 61,
   "id": "89641026",
   "metadata": {},
   "outputs": [
    {
     "name": "stderr",
     "output_type": "stream",
     "text": [
      "/usr/lib/python3/dist-packages/matplotlib/cbook/__init__.py:1402: FutureWarning: Support for multi-dimensional indexing (e.g. `obj[:, None]`) is deprecated and will be removed in a future version.  Convert to a numpy array before indexing instead.\n",
      "  ndim = x[:, None].ndim\n",
      "/usr/lib/python3/dist-packages/matplotlib/axes/_base.py:276: FutureWarning: Support for multi-dimensional indexing (e.g. `obj[:, None]`) is deprecated and will be removed in a future version.  Convert to a numpy array before indexing instead.\n",
      "  x = x[:, np.newaxis]\n",
      "/usr/lib/python3/dist-packages/matplotlib/axes/_base.py:278: FutureWarning: Support for multi-dimensional indexing (e.g. `obj[:, None]`) is deprecated and will be removed in a future version.  Convert to a numpy array before indexing instead.\n",
      "  y = y[:, np.newaxis]\n"
     ]
    },
    {
     "data": {
      "text/plain": [
       "<matplotlib.axes._subplots.AxesSubplot at 0x7f1944ec1d60>"
      ]
     },
     "execution_count": 61,
     "metadata": {},
     "output_type": "execute_result"
    },
    {
     "data": {
      "image/png": "[encoded data removed]",
      "text/plain": [
       "<Figure size 1600x1200 with 1 Axes>"
      ]
     },
     "metadata": {},
     "output_type": "display_data"
    }
   ],
   "source": [
    "sns.lineplot(x=\"all_dates\", y=\"total_sales\",\n",
    "            data=sales_per_day)"
   ]
  },
  {
   "cell_type": "code",
   "execution_count": 62,
   "id": "c7c070d7",
   "metadata": {},
   "outputs": [
    {
     "name": "stderr",
     "output_type": "stream",
     "text": [
      "/usr/lib/python3/dist-packages/matplotlib/cbook/__init__.py:1402: FutureWarning: Support for multi-dimensional indexing (e.g. `obj[:, None]`) is deprecated and will be removed in a future version.  Convert to a numpy array before indexing instead.\n",
      "  ndim = x[:, None].ndim\n",
      "/usr/lib/python3/dist-packages/matplotlib/axes/_base.py:276: FutureWarning: Support for multi-dimensional indexing (e.g. `obj[:, None]`) is deprecated and will be removed in a future version.  Convert to a numpy array before indexing instead.\n",
      "  x = x[:, np.newaxis]\n",
      "/usr/lib/python3/dist-packages/matplotlib/axes/_base.py:278: FutureWarning: Support for multi-dimensional indexing (e.g. `obj[:, None]`) is deprecated and will be removed in a future version.  Convert to a numpy array before indexing instead.\n",
      "  y = y[:, np.newaxis]\n"
     ]
    },
    {
     "data": {
      "text/plain": [
       "<matplotlib.axes._subplots.AxesSubplot at 0x7f1944e1be80>"
      ]
     },
     "execution_count": 62,
     "metadata": {},
     "output_type": "execute_result"
    },
    {
     "data": {
      "image/png": "[encoded data removed]",
      "text/plain": [
       "<Figure size 1600x1200 with 1 Axes>"
      ]
     },
     "metadata": {},
     "output_type": "display_data"
    }
   ],
   "source": [
    "x = with_dates.query('\"2018-11-30\" <all_dates < \"2019-01-01\"')\\\n",
    "                    .groupby('all_dates', as_index=False)\\\n",
    "                    .agg({'total_sales': 'sum'})\n",
    "\n",
    "sns.lineplot(x=\"all_dates\", y=\"total_sales\", data=x)\n"
   ]
  },
  {
   "cell_type": "markdown",
   "id": "4c27f131",
   "metadata": {},
   "source": [
    "## We can see that there is an increase in purchases in December and a break in late December. We can see that the increase in sales occurs in the lead-up to Christmas and that there are zero sales on Christmas day itself. This is due to shops being closed on Christmas day."
   ]
  },
  {
   "cell_type": "code",
   "execution_count": 63,
   "id": "9f5d5e3c",
   "metadata": {},
   "outputs": [],
   "source": [
    "cons_df = with_dates"
   ]
  },
  {
   "cell_type": "code",
   "execution_count": 64,
   "id": "d3248384",
   "metadata": {},
   "outputs": [
    {
     "data": {
      "text/plain": [
       "array([175, 160, 170, 150, 330, 165, 110, 210, 180, 200, 134, 270, 220,\n",
       "       125, 135, 380, 250,  90, 190,  70])"
      ]
     },
     "execution_count": 64,
     "metadata": {},
     "output_type": "execute_result"
    }
   ],
   "source": [
    "cons_df.weights_of_chips.astype('int64').unique()"
   ]
  },
  {
   "cell_type": "markdown",
   "id": "c1923f3f",
   "metadata": {},
   "source": [
    "## Let's download the whole dataset for future analysis"
   ]
  },
  {
   "cell_type": "code",
   "execution_count": null,
   "id": "979f8135",
   "metadata": {},
   "outputs": [],
   "source": [
    "cons_df.to_csv(r'outliers.csv')"
   ]
  },
  {
   "cell_type": "markdown",
   "id": "6678b209",
   "metadata": {},
   "source": [
    "## Activity of customers depending on their lifestage and let's see if the higher sales are due to there being more customers who buy chips. How many customers are in each segment?"
   ]
  },
  {
   "cell_type": "code",
   "execution_count": null,
   "id": "a56c445a",
   "metadata": {},
   "outputs": [],
   "source": [
    "FileLink(r'activity_on_lifestage.png')\n",
    "active_stage = cons_df.groupby(['lifestage', 'premium_customer'], as_index=False)\\\n",
    "                .agg({'total_sales': 'sum'})\\\n",
    "                .sort_values(by='total_sales', ascending=False)\n",
    "activity_on_lifestage = sns.catplot(\n",
    "                        data=active_stage, kind=\"bar\",\n",
    "                        x=\"lifestage\", y=\"total_sales\", hue=\"premium_customer\",\n",
    "                        errorbar=\"sd\", palette=\"inferno\")\n",
    "plt.xticks(rotation=0)\n",
    "plt.savefig('activity_on_lifestage.png')\n",
    "FileLink(r'cust_per_segment.png')\n",
    "cust_per_segment = cons_df.groupby(['lifestage','premium_customer'], as_index=False)\\\n",
    "                .agg({'loyalty_card_number': 'nunique'})\\\n",
    "                .sort_values(by='loyalty_card_number', ascending=False)\n",
    "\n",
    "cust_per_segment_plot = sns.catplot(\n",
    "                        data=cust_per_segment, kind=\"bar\",\n",
    "                        x=\"lifestage\", y=\"loyalty_card_number\", hue=\"premium_customer\",\n",
    "                        errorbar=\"sd\", palette=\"inferno\")\n",
    "\n",
    "plt.xticks(rotation=0)\n",
    "plt.savefig('cust_per_segment_plot.png')"
   ]
  },
  {
   "cell_type": "markdown",
   "id": "dfecf3fb",
   "metadata": {},
   "source": [
    "## There are more Mainstream - young singles/couples and Mainstream - retirees who buy chips. This contributes to there being more sales to these customer segments but this is not a major driver for the Budget - Older families segment. "
   ]
  },
  {
   "cell_type": "markdown",
   "id": "e470da9e",
   "metadata": {},
   "source": [
    "## Most popular size of pack."
   ]
  },
  {
   "cell_type": "code",
   "execution_count": null,
   "id": "3bce5503",
   "metadata": {},
   "outputs": [],
   "source": [
    "FileLink(r'popular_package.png')\n",
    "popular_package = cons_df.groupby('weights_of_chips', as_index=False)\\\n",
    "                .agg({'total_sales': 'sum'})\\\n",
    "                .sort_values(by='total_sales', ascending=False)\\\n",
    "                .head(20)\n",
    "popular_package = sns.barplot(data = popular_package, x='weights_of_chips', y='total_sales', palette=\"spring\")\n",
    "plt.savefig('popular_package.png')"
   ]
  },
  {
   "cell_type": "markdown",
   "id": "cb751fe5",
   "metadata": {},
   "source": [
    "## Average number of units per customer by LIFESTAGE and PREMIUM_CUSTOMER"
   ]
  },
  {
   "cell_type": "code",
   "execution_count": null,
   "id": "85e87e3a",
   "metadata": {},
   "outputs": [],
   "source": [
    "FileLink(r'average_units.png')\n",
    "average_units = cons_df.groupby(['lifestage','premium_customer'], as_index=False)\\\n",
    "                .agg({'product_quantity': 'mean'})\n",
    "\n",
    "average_units = sns.catplot(\n",
    "                        data=average_units, kind=\"bar\",\n",
    "                        x=\"lifestage\", y=\"product_quantity\", hue=\"premium_customer\",\n",
    "                        errorbar=\"sd\", palette=\"twilight\")\n",
    "\n",
    "plt.xticks(rotation=70)\n",
    "plt.savefig('average_units.png')"
   ]
  },
  {
   "cell_type": "markdown",
   "id": "7f140e1c",
   "metadata": {},
   "source": [
    "## Older families and young families in general buy more chips per customer"
   ]
  },
  {
   "cell_type": "markdown",
   "id": "e94e031b",
   "metadata": {},
   "source": [
    "## Average price per unit by LIFESTAGE and PREMIUM_CUSTOMER"
   ]
  },
  {
   "cell_type": "code",
   "execution_count": null,
   "id": "f7c651b5",
   "metadata": {},
   "outputs": [],
   "source": [
    "cons_df['average_price'] = cons_df.total_sales/cons_df.product_quantity"
   ]
  },
  {
   "cell_type": "code",
   "execution_count": null,
   "id": "f512705a",
   "metadata": {},
   "outputs": [],
   "source": [
    "cons_df.average_price.describe()"
   ]
  },
  {
   "cell_type": "code",
   "execution_count": null,
   "id": "f4010d0a",
   "metadata": {},
   "outputs": [],
   "source": [
    "FileLink(r'average_unit_price.png')\n",
    "average_unit_price = cons_df.groupby(['lifestage','premium_customer'], as_index=False)\\\n",
    "                .agg({'average_price': 'mean'})\n",
    "\n",
    "average_unit_price_plot = sns.catplot(\n",
    "                        data=average_unit_price, kind=\"bar\",\n",
    "                        x=\"lifestage\", y=\"average_price\", hue=\"premium_customer\",\n",
    "                        errorbar=\"sd\", palette=\"twilight\")\n",
    "\n",
    "plt.xticks(rotation=70)\n",
    "plt.savefig('average_unit_price_plot.png')"
   ]
  },
  {
   "cell_type": "markdown",
   "id": "143b6133",
   "metadata": {},
   "source": [
    "## \"Mainstream midage\" and \"mainstream young singles and couples\" are more willing to pay more per packet of chips compared to their budget and premium counterparts. This may be due to premium shoppers being more likely to buy healthy snacks and when they buy chips, this is mainly for entertainment purposes rather than their own consumption. This is also supported by there being fewer premium midage and young singles and couples buying chips compared to their mainstream counterparts."
   ]
  },
  {
   "cell_type": "markdown",
   "id": "f50eecea",
   "metadata": {},
   "source": [
    "## As the difference in average price per unit isn't large, we can check if this difference is statistically different. Let's perform a t-test to see if the difference is significant.  Perform an independent t-test between mainstream vs premium and budget midage and young singles and couples."
   ]
  },
  {
   "cell_type": "code",
   "execution_count": null,
   "id": "916d081d",
   "metadata": {},
   "outputs": [],
   "source": [
    "from scipy.stats import ttest_ind"
   ]
  },
  {
   "cell_type": "code",
   "execution_count": null,
   "id": "f6e6c2c9",
   "metadata": {},
   "outputs": [],
   "source": [
    "t_test = ttest_ind(cons_df.query('(lifestage == \"MIDAGE SINGLES/COUPLES\" or lifestage ==\"YOUNG SINGLES/COUPLES\")\\\n",
    "                            and premium_customer == \"Mainstream\"').average_price, \n",
    "        cons_df.query('(lifestage == \"MIDAGE SINGLES/COUPLES\" or lifestage ==\"YOUNG SINGLES/COUPLES\") \\\n",
    "                            and premium_customer != \"Mainstream\"').average_price)\n",
    "t_test"
   ]
  },
  {
   "cell_type": "code",
   "execution_count": null,
   "id": "3cf9f6b8",
   "metadata": {},
   "outputs": [],
   "source": [
    "cons_df.query('(lifestage == \"MIDAGE SINGLES/COUPLES\" or lifestage ==\"YOUNG SINGLES/COUPLES\")\\\n",
    "                            and premium_customer == \"Mainstream\"').average_price.mean()"
   ]
  },
  {
   "cell_type": "code",
   "execution_count": null,
   "id": "b45fdd52",
   "metadata": {},
   "outputs": [],
   "source": [
    "cons_df.query('(lifestage == \"MIDAGE SINGLES/COUPLES\" or lifestage ==\"YOUNG SINGLES/COUPLES\") \\\n",
    "                            and premium_customer != \"Mainstream\"').average_price.mean()"
   ]
  },
  {
   "cell_type": "code",
   "execution_count": null,
   "id": "99ebe376",
   "metadata": {},
   "outputs": [],
   "source": []
  },
  {
   "cell_type": "markdown",
   "id": "3b3626c3",
   "metadata": {},
   "source": [
    "## The t-test results in a p-value of 2.235645611540966e-309 i.e. the unit price for mainstream young and mainstream mid-age singles and couples ARE statistically significantly higher than that of budget or premium, young and midage singles and couples.\n"
   ]
  },
  {
   "cell_type": "markdown",
   "id": "523a5d6a",
   "metadata": {},
   "source": [
    "## We might want to target customer segments that contribute the most to sales to retain them or further increase sales. Let's look at Mainstream - young singles/couples. For instance, let's find out if they tend to buy a particular brand of chips."
   ]
  },
  {
   "cell_type": "code",
   "execution_count": null,
   "id": "00885cf9",
   "metadata": {},
   "outputs": [],
   "source": [
    "target_group = cons_df\\\n",
    "                .query('lifestage == \"YOUNG SINGLES/COUPLES\" and premium_customer == \"Mainstream\"')\n",
    "\n"
   ]
  },
  {
   "cell_type": "code",
   "execution_count": null,
   "id": "425a68cf",
   "metadata": {},
   "outputs": [],
   "source": [
    "\n",
    "other_groups = cons_df\\\n",
    "                    .query('lifestage != \"YOUNG SINGLES/COUPLES\" and premium_customer != \"Mainstream\"')\n"
   ]
  },
  {
   "cell_type": "code",
   "execution_count": null,
   "id": "a3f1557b",
   "metadata": {},
   "outputs": [],
   "source": [
    "target_group_quantity = target_group.product_quantity.sum()\n",
    "other_groups_quantity = other_groups.product_quantity.sum()"
   ]
  },
  {
   "cell_type": "code",
   "execution_count": null,
   "id": "9293d649",
   "metadata": {},
   "outputs": [],
   "source": [
    "affinity_target = target_group.groupby('company_name', as_index=False).agg({'product_quantity': 'sum'})\n",
    "affinity_target['affinity_target'] = affinity_target.product_quantity/target_group_quantity\n"
   ]
  },
  {
   "cell_type": "code",
   "execution_count": null,
   "id": "c17100b2",
   "metadata": {},
   "outputs": [],
   "source": [
    "affinity_other = other_groups.groupby('company_name', as_index=False).agg({'product_quantity': 'sum'})"
   ]
  },
  {
   "cell_type": "code",
   "execution_count": null,
   "id": "d20d160a",
   "metadata": {},
   "outputs": [],
   "source": [
    "\n",
    "affinity_other['affinity_other'] = affinity_other.product_quantity/other_groups_quantity\n"
   ]
  },
  {
   "cell_type": "code",
   "execution_count": null,
   "id": "1cd93293",
   "metadata": {},
   "outputs": [],
   "source": [
    "merged_df = affinity_target.merge(affinity_other, on='company_name')"
   ]
  },
  {
   "cell_type": "code",
   "execution_count": null,
   "id": "7e303748",
   "metadata": {},
   "outputs": [],
   "source": [
    "\n",
    "merged_df['affinitytobrand'] = merged_df.affinity_target/merged_df.affinity_other\n",
    "merged_df.sort_values(by='affinitytobrand', ascending=False)"
   ]
  },
  {
   "cell_type": "markdown",
   "id": "c48500e6",
   "metadata": {},
   "source": [
    "We can see that :\n",
    "• Mainstream young singles/couples are 23% more likely to purchase Tyrrells chips compared to the\n",
    "rest of the population\n",
    "• Mainstream young singles/couples are 56% less likely to purchase Burger Rings compared to the rest\n",
    "of the population"
   ]
  },
  {
   "cell_type": "markdown",
   "id": "e356c0b6",
   "metadata": {},
   "source": [
    "## Let’s also find out if our target segment tends to buy larger packs of chips."
   ]
  },
  {
   "cell_type": "code",
   "execution_count": null,
   "id": "b509f0ec",
   "metadata": {},
   "outputs": [],
   "source": [
    "affinity_target_weights = target_group.groupby('weights_of_chips', as_index=False)\\\n",
    "                        .agg({'product_quantity': 'sum'})\n",
    "affinity_target_weights['affinity_target_weights'] = affinity_target_weights.\\\n",
    "                        product_quantity/target_group_quantity"
   ]
  },
  {
   "cell_type": "code",
   "execution_count": null,
   "id": "39233fa6",
   "metadata": {},
   "outputs": [],
   "source": [
    "affinity_other_weights = other_groups.groupby('weights_of_chips', as_index=False)\\\n",
    "                        .agg({'product_quantity': 'sum'})\n",
    "affinity_other_weights['affinity_other_weights'] = affinity_other_weights.\\\n",
    "                        product_quantity/other_groups_quantity"
   ]
  },
  {
   "cell_type": "code",
   "execution_count": null,
   "id": "d7988259",
   "metadata": {},
   "outputs": [],
   "source": [
    "merged_df_weights = affinity_target_weights.merge(affinity_other_weights, on='weights_of_chips')\n",
    "merged_df_weights['affinitytosize'] = merged_df_weights\\\n",
    "                                    .affinity_target_weights/merged_df_weights.affinity_other_weights\n",
    "merged_df_weights.sort_values(by='affinitytosize', ascending=False)"
   ]
  },
  {
   "cell_type": "markdown",
   "id": "f84628ed",
   "metadata": {},
   "source": [
    "## It looks like Mainstream young singles/couples are 27% more likely to purchase a 270g pack of chips compared to the rest of the population but let’s dive into what brands sell this pack size.|"
   ]
  },
  {
   "cell_type": "code",
   "execution_count": null,
   "id": "429f7da2",
   "metadata": {},
   "outputs": [],
   "source": [
    "cons_df.query('weights_of_chips == \"270\"')"
   ]
  },
  {
   "cell_type": "markdown",
   "id": "b84664bf",
   "metadata": {},
   "source": [
    "## Twisties are the only brand offering 270g packs and so this may instead be reflecting a higher likelihood of purchasing Twisties."
   ]
  },
  {
   "cell_type": "markdown",
   "id": "d0a093aa",
   "metadata": {},
   "source": [
    "Conclusion\n",
    "Let’s recap what we’ve found!\n",
    "Sales have mainly been due to Budget - older families, Mainstream - young singles/couples, and Mainstream\n",
    "- retirees shoppers. We found that the high spend in chips for mainstream young singles/couples and retirees is due to there being more of them than other buyers. Mainstream, midage and young singles and\n",
    "couples are also more likely to pay more per packet of chips. This is indicative of impulse buying behaviour.\n",
    "We’ve also found that Mainstream young singles and couples are 23% more likely to purchase Tyrrells chips\n",
    "compared to the rest of the population. The Category Manager may want to increase the category’s performance by off-locating some Tyrrells and smaller packs of chips in discretionary space near segments\n",
    "where young singles and couples frequent more often to increase visibilty and impulse behaviour.\n",
    "Quantium can help the Category Manager with recommendations of where these segments are and further\n",
    "help them with measuring the impact of the changed placement. We’ll work on measuring the impact of\n",
    "trials in the next task and putting all these together in the third task."
   ]
  },
  {
   "cell_type": "code",
   "execution_count": null,
   "id": "18843807",
   "metadata": {},
   "outputs": [],
   "source": [
    "#!pip install nbconvert[webpdf]"
   ]
  },
  {
   "cell_type": "code",
   "execution_count": null,
   "id": "a91358b2",
   "metadata": {},
   "outputs": [],
   "source": [
    "#!jupyter nbconvert --to webpdf --allow-chromium-download your-notebook-file.ipynb"
   ]
  },
  {
   "cell_type": "code",
   "execution_count": null,
   "id": "2df05685",
   "metadata": {},
   "outputs": [],
   "source": [
    "#!jupyter nbconvert --to webpdf --allow-chromium-download quantium.ipynb"
   ]
  },
  {
   "cell_type": "code",
   "execution_count": null,
   "id": "bc9192f3",
   "metadata": {},
   "outputs": [],
   "source": []
  }
 ],
 "metadata": {
  "kernelspec": {
   "display_name": "Python 3 (ipykernel)",
   "language": "python",
   "name": "python3"
  },
  "language_info": {
   "codemirror_mode": {
    "name": "ipython",
    "version": 3
   },
   "file_extension": ".py",
   "mimetype": "text/x-python",
   "name": "python",
   "nbconvert_exporter": "python",
   "pygments_lexer": "ipython3",
   "version": "3.8.10"
  }
 },
 "nbformat": 4,
 "nbformat_minor": 5
}
